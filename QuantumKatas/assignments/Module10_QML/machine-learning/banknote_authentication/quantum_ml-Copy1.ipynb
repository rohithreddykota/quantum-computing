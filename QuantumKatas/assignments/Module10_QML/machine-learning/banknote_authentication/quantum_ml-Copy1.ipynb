{
 "cells": [
  {
   "cell_type": "markdown",
   "metadata": {},
   "source": [
    "## <a id='toc1_1_'></a>[Quantum Machine Learning](#toc0_)"
   ]
  },
  {
   "cell_type": "markdown",
   "metadata": {},
   "source": [
    "**Table of contents**<a id='toc0_'></a>    \n",
    "- [Quantum Machine Learning](#toc1_1_)    \n",
    "  - [Environment Setup](#toc1_2_)    \n",
    "  - [Load train and test data](#toc1_3_)    \n",
    "  - [Initialize the weights and bias for the training](#toc1_4_)    \n",
    "  - [Load Qunatum Machine Learning Package](#toc1_5_)    \n",
    "  - [Train Model](#toc1_6_)    \n",
    "  - [Validate model](#toc1_7_)    \n",
    "  - [Classify](#toc1_8_)    \n",
    "  - [Conclusion](#toc1_9_)    \n",
    "  - [References](#toc1_10_)    \n",
    "\n",
    "<!-- vscode-jupyter-toc-config\n",
    "\tnumbering=false\n",
    "\tanchor=true\n",
    "\tflat=false\n",
    "\tminLevel=1\n",
    "\tmaxLevel=6\n",
    "\t/vscode-jupyter-toc-config -->\n",
    "<!-- THIS CELL WILL BE REPLACED ON TOC UPDATE. DO NOT WRITE YOUR TEXT IN THIS CELL -->"
   ]
  },
  {
   "cell_type": "markdown",
   "metadata": {},
   "source": [
    "## <a id='toc1_2_'></a>[Environment Setup](#toc0_)\n",
    "\n",
    "- Executed on docker container built using the Dockerfile in the QuantumKatas repository.\n",
    "- It had few issues with iqsharp and proj deps. Fixed it. See [PR](https://github.com/microsoft/QuantumKatas/pull/900)"
   ]
  },
  {
   "cell_type": "markdown",
   "metadata": {},
   "source": [
    "## <a id='toc1_3_'></a>[Load train and test data](#toc0_)"
   ]
  },
  {
   "cell_type": "code",
   "execution_count": 1,
   "metadata": {},
   "outputs": [],
   "source": [
    "import json\n",
    "\n",
    "# load data from json file\n",
    "with open('train_test_split.json', 'r') as f:\n",
    "    data = json.load(f)\n",
    "    \n",
    "X_train_list = data['train']['features']\n",
    "y_train_list = data['train']['labels']\n",
    "\n",
    "X_test_list = data['test']['features']\n",
    "y_test_list = data['test']['labels']"
   ]
  },
  {
   "cell_type": "markdown",
   "metadata": {},
   "source": [
    "## <a id='toc1_4_'></a>[Initialize the weights and bias for the training](#toc0_)\n",
    "\n",
    "This following block of code initializes the weights and bias for the training randomly with uniform distribution."
   ]
  },
  {
   "cell_type": "code",
   "execution_count": 2,
   "metadata": {
    "scrolled": true
   },
   "outputs": [
    {
     "data": {
      "text/plain": [
       "[[3.1971339922894186,\n",
       "  0.12505377611333468,\n",
       "  1.3751465918455963,\n",
       "  1.1160536907441139,\n",
       "  3.682356070820062,\n",
       "  3.3834974371145563,\n",
       "  4.460897838524227,\n",
       "  0.43469416314708076],\n",
       " [2.1096090984263522,\n",
       "  0.14898609719035172,\n",
       "  1.0931898740180168,\n",
       "  2.526776440516812,\n",
       "  0.13267984841931812,\n",
       "  0.9941882534332425,\n",
       "  3.249422188897616,\n",
       "  2.724707403016083],\n",
       " [1.1022031102034835,\n",
       "  2.946328419379544,\n",
       "  4.047152283389133,\n",
       "  0.032493798390305084,\n",
       "  4.02909625916404,\n",
       "  3.4906969749411343,\n",
       "  1.7012525825899594,\n",
       "  0.7773974990589078],\n",
       " [4.786065361033906,\n",
       "  1.682972725563134,\n",
       "  0.46372921690073954,\n",
       "  0.48358188416732006,\n",
       "  4.237471831737299,\n",
       "  3.0186301568344556,\n",
       "  4.035641366371901,\n",
       "  3.6486589334690893],\n",
       " [2.6811404572735036,\n",
       "  4.865578819896853,\n",
       "  1.8926718860417675,\n",
       "  2.760203156366135,\n",
       "  4.1470233212649745,\n",
       "  3.0925987618212303,\n",
       "  4.308534501553886,\n",
       "  2.88676072628381],\n",
       " [3.5228591810746175,\n",
       "  0.22912191827831108,\n",
       "  1.1394913782577343,\n",
       "  1.4469398180105357,\n",
       "  0.3989598846181375,\n",
       "  1.163954431805151,\n",
       "  0.5050071470486456,\n",
       "  1.3898680155504606],\n",
       " [3.178422221322001,\n",
       "  1.8241608948504213,\n",
       "  1.850904835584413,\n",
       "  1.0475351538574385,\n",
       "  1.334889110245567,\n",
       "  4.68327293856247,\n",
       "  3.2401769262329676,\n",
       "  3.045655028334941],\n",
       " [0.8556932409904849,\n",
       "  3.645633989751746,\n",
       "  0.817012468809642,\n",
       "  1.897277208788239,\n",
       "  4.9476167531829764,\n",
       "  3.1999987992704644,\n",
       "  2.784748718873231,\n",
       "  3.423071254949373]]"
      ]
     },
     "execution_count": 2,
     "metadata": {},
     "output_type": "execute_result"
    }
   ],
   "source": [
    "## Generate Initial Weights\n",
    "\n",
    "import random\n",
    "# Set a seed for reproducibility\n",
    "random.seed(42)\n",
    "\n",
    "# Function to generate random numbers between 0 and 5\n",
    "def generate_random_numbers():\n",
    "    return random.uniform(0, 5)\n",
    "\n",
    "\n",
    "initial_weights = []\n",
    "for i in range(8):\n",
    "    arr = []\n",
    "    for i in range(8):\n",
    "        arr.append(generate_random_numbers())\n",
    "    initial_weights.append(arr)\n",
    "    \n",
    "initial_weights"
   ]
  },
  {
   "cell_type": "markdown",
   "metadata": {},
   "source": [
    "## <a id='toc1_5_'></a>[Load Qunatum Machine Learning Package](#toc0_)"
   ]
  },
  {
   "cell_type": "code",
   "execution_count": 4,
   "metadata": {},
   "outputs": [
    {
     "name": "stdout",
     "output_type": "stream",
     "text": [
      "Preparing Q# environment...\n"
     ]
    },
    {
     "data": {
      "application/x-qsharp-data": "{\"LastUpdated\":\"2024-04-15T02:20:31.5174399+00:00\",\"IsCompleted\":false,\"Description\":\"Adding package Microsoft.Quantum.MachineLearning::0.28.302812\",\"Subtask\":null}",
      "text/plain": [
       "Adding package Microsoft.Quantum.MachineLearning::0.28.302812."
      ]
     },
     "metadata": {},
     "output_type": "display_data"
    }
   ],
   "source": [
    "import qsharp\n",
    "qsharp.packages.add(\"Microsoft.Quantum.MachineLearning::0.28.302812\")\n"
   ]
  },
  {
   "cell_type": "code",
   "execution_count": 5,
   "metadata": {},
   "outputs": [
    {
     "data": {
      "application/x-qsharp-data": "{\"LastUpdated\":\"2024-04-15T02:20:31.566675+00:00\",\"IsCompleted\":false,\"Description\":\"Reloading workspace\",\"Subtask\":null}",
      "text/plain": [
       "Reloading workspace."
      ]
     },
     "metadata": {},
     "output_type": "display_data"
    }
   ],
   "source": [
    "qsharp.reload()\n"
   ]
  },
  {
   "cell_type": "markdown",
   "metadata": {},
   "source": [
    "## <a id='toc1_6_'></a>[Train Model](#toc0_)"
   ]
  },
  {
   "cell_type": "code",
   "execution_count": 6,
   "metadata": {},
   "outputs": [],
   "source": [
    "from Microsoft.Quantum.Samples import (\n",
    "    TrainModel, ValidateModel, ClassifyModel\n",
    ")"
   ]
  },
  {
   "cell_type": "code",
   "execution_count": 7,
   "metadata": {},
   "outputs": [],
   "source": [
    "weights, bias = TrainModel.simulate(\n",
    "    trainingVectors=X_train_list,\n",
    "    trainingLabels=y_train_list,\n",
    "    initialParameters=initial_weights,\n",
    "    verbose=True\n",
    ")\n"
   ]
  },
  {
   "cell_type": "markdown",
   "metadata": {},
   "source": [
    "## <a id='toc1_7_'></a>[Validate model](#toc0_)"
   ]
  },
  {
   "cell_type": "code",
   "execution_count": 8,
   "metadata": {},
   "outputs": [
    {
     "name": "stdout",
     "output_type": "stream",
     "text": [
      "Miss rate: 0.46545454545454545\n"
     ]
    }
   ],
   "source": [
    "miss_rate = ValidateModel.simulate(\n",
    "    validationVectors=X_test_list,\n",
    "    validationLabels=y_test_list,\n",
    "    parameters=weights, bias=bias\n",
    ")\n",
    "\n",
    "print(f\"Miss rate: {miss_rate}\")"
   ]
  },
  {
   "cell_type": "markdown",
   "metadata": {},
   "source": [
    "## <a id='toc1_8_'></a>[Classify](#toc0_)"
   ]
  },
  {
   "cell_type": "code",
   "execution_count": 9,
   "metadata": {},
   "outputs": [
    {
     "data": {
      "text/html": [
       "<div>\n",
       "<style scoped>\n",
       "    .dataframe tbody tr th:only-of-type {\n",
       "        vertical-align: middle;\n",
       "    }\n",
       "\n",
       "    .dataframe tbody tr th {\n",
       "        vertical-align: top;\n",
       "    }\n",
       "\n",
       "    .dataframe thead th {\n",
       "        text-align: right;\n",
       "    }\n",
       "</style>\n",
       "<table border=\"1\" class=\"dataframe\">\n",
       "  <thead>\n",
       "    <tr style=\"text-align: right;\">\n",
       "      <th></th>\n",
       "      <th>actual</th>\n",
       "      <th>classified</th>\n",
       "    </tr>\n",
       "  </thead>\n",
       "  <tbody>\n",
       "    <tr>\n",
       "      <th>19</th>\n",
       "      <td>1</td>\n",
       "      <td>0</td>\n",
       "    </tr>\n",
       "    <tr>\n",
       "      <th>28</th>\n",
       "      <td>0</td>\n",
       "      <td>1</td>\n",
       "    </tr>\n",
       "    <tr>\n",
       "      <th>34</th>\n",
       "      <td>1</td>\n",
       "      <td>0</td>\n",
       "    </tr>\n",
       "    <tr>\n",
       "      <th>42</th>\n",
       "      <td>1</td>\n",
       "      <td>0</td>\n",
       "    </tr>\n",
       "    <tr>\n",
       "      <th>46</th>\n",
       "      <td>1</td>\n",
       "      <td>0</td>\n",
       "    </tr>\n",
       "    <tr>\n",
       "      <th>74</th>\n",
       "      <td>1</td>\n",
       "      <td>0</td>\n",
       "    </tr>\n",
       "    <tr>\n",
       "      <th>85</th>\n",
       "      <td>0</td>\n",
       "      <td>1</td>\n",
       "    </tr>\n",
       "    <tr>\n",
       "      <th>96</th>\n",
       "      <td>1</td>\n",
       "      <td>0</td>\n",
       "    </tr>\n",
       "    <tr>\n",
       "      <th>110</th>\n",
       "      <td>1</td>\n",
       "      <td>0</td>\n",
       "    </tr>\n",
       "    <tr>\n",
       "      <th>134</th>\n",
       "      <td>0</td>\n",
       "      <td>1</td>\n",
       "    </tr>\n",
       "    <tr>\n",
       "      <th>137</th>\n",
       "      <td>0</td>\n",
       "      <td>1</td>\n",
       "    </tr>\n",
       "    <tr>\n",
       "      <th>145</th>\n",
       "      <td>1</td>\n",
       "      <td>0</td>\n",
       "    </tr>\n",
       "    <tr>\n",
       "      <th>153</th>\n",
       "      <td>0</td>\n",
       "      <td>1</td>\n",
       "    </tr>\n",
       "    <tr>\n",
       "      <th>162</th>\n",
       "      <td>1</td>\n",
       "      <td>0</td>\n",
       "    </tr>\n",
       "    <tr>\n",
       "      <th>196</th>\n",
       "      <td>1</td>\n",
       "      <td>0</td>\n",
       "    </tr>\n",
       "    <tr>\n",
       "      <th>199</th>\n",
       "      <td>1</td>\n",
       "      <td>0</td>\n",
       "    </tr>\n",
       "    <tr>\n",
       "      <th>207</th>\n",
       "      <td>1</td>\n",
       "      <td>0</td>\n",
       "    </tr>\n",
       "    <tr>\n",
       "      <th>219</th>\n",
       "      <td>1</td>\n",
       "      <td>0</td>\n",
       "    </tr>\n",
       "    <tr>\n",
       "      <th>220</th>\n",
       "      <td>1</td>\n",
       "      <td>0</td>\n",
       "    </tr>\n",
       "    <tr>\n",
       "      <th>228</th>\n",
       "      <td>1</td>\n",
       "      <td>0</td>\n",
       "    </tr>\n",
       "    <tr>\n",
       "      <th>233</th>\n",
       "      <td>0</td>\n",
       "      <td>1</td>\n",
       "    </tr>\n",
       "    <tr>\n",
       "      <th>259</th>\n",
       "      <td>1</td>\n",
       "      <td>0</td>\n",
       "    </tr>\n",
       "  </tbody>\n",
       "</table>\n",
       "</div>"
      ],
      "text/plain": [
       "     actual  classified\n",
       "19        1           0\n",
       "28        0           1\n",
       "34        1           0\n",
       "42        1           0\n",
       "46        1           0\n",
       "74        1           0\n",
       "85        0           1\n",
       "96        1           0\n",
       "110       1           0\n",
       "134       0           1\n",
       "137       0           1\n",
       "145       1           0\n",
       "153       0           1\n",
       "162       1           0\n",
       "196       1           0\n",
       "199       1           0\n",
       "207       1           0\n",
       "219       1           0\n",
       "220       1           0\n",
       "228       1           0\n",
       "233       0           1\n",
       "259       1           0"
      ]
     },
     "execution_count": 9,
     "metadata": {},
     "output_type": "execute_result"
    }
   ],
   "source": [
    "actual_labels = y_test_list\n",
    "classified_labels = ClassifyModel.simulate(\n",
    "    samples=X_test_list,\n",
    "    parameters=weights, bias=bias,\n",
    "    tolerance=0.005, nMeasurements=10_000\n",
    ")\n",
    "\n",
    "import pandas as pd\n",
    "df = pd.DataFrame({'actual': actual_labels, 'classified': classified_labels})\n",
    "df = df[df['actual'] != df['classified']]\n",
    "df"
   ]
  },
  {
   "cell_type": "markdown",
   "metadata": {},
   "source": [
    "## <a id='toc1_9_'></a>[Conclusion](#toc0_)\n",
    "\n"
   ]
  },
  {
   "cell_type": "markdown",
   "metadata": {},
   "source": [
    "Accuracy of the classical model:\n",
    "    \n",
    "    Accuracy: 98%\n",
    "    Time taken to train: 10.1 ms\n",
    "        \n",
    "Accuracy of using Quantum model:\n",
    "    \n",
    "    Accuracy: 85.54%\n",
    "    Num Qubits Used: 3\n",
    "    Time taken to train: ~12Hours\n",
    "        \n",
    "    "
   ]
  },
  {
   "cell_type": "markdown",
   "metadata": {},
   "source": [
    "## <a id='toc1_10_'></a>[References](#toc0_)\n",
    "\n",
    "- The paper ['Circuit-centric quantum classifiers', by Maria Schuld, Alex Bocharov, Krysta Svore and Nathan Wiebe](https://arxiv.org/abs/1804.00633). Used it to understand the concept of quantum classifiers and the implementation of the quantum circuit for the same.\n",
    "- [QunatumKatas/tutorials/QuantumClassification](https://github.com/microsoft/QuantumKatas/tree/main/tutorials/QuantumClassification) provided the basic structure of the code and the implementation of the quantum circuit for the quantum classifier.\n",
    "\n"
   ]
  }
 ],
 "metadata": {
  "kernelspec": {
   "display_name": "Python 3 (ipykernel)",
   "language": "python",
   "name": "python3"
  },
  "language_info": {
   "codemirror_mode": {
    "name": "ipython",
    "version": 3
   },
   "file_extension": ".py",
   "mimetype": "text/x-python",
   "name": "python",
   "nbconvert_exporter": "python",
   "pygments_lexer": "ipython3",
   "version": "3.9.18"
  }
 },
 "nbformat": 4,
 "nbformat_minor": 2
}
