{
 "cells": [
  {
   "cell_type": "markdown",
   "metadata": {},
   "source": [
    "## Quantum Machine Learning"
   ]
  },
  {
   "cell_type": "markdown",
   "metadata": {},
   "source": [
    "## References\n",
    "\n",
    "- The paper ['Circuit-centric quantum classifiers', by Maria Schuld, Alex Bocharov, Krysta Svore and Nathan Wiebe](https://arxiv.org/abs/1804.00633). Used it to understand the concept of quantum classifiers and the implementation of the quantum circuit for the same.\n",
    "- [QunatumKatas/tutorials/QuantumClassification](https://github.com/microsoft/QuantumKatas/tree/main/tutorials/QuantumClassification) provided the basic structure of the code and the implementation of the quantum circuit for the quantum classifier.\n",
    "\n"
   ]
  },
  {
   "cell_type": "markdown",
   "metadata": {},
   "source": [
    "## Running Environment\n",
    "\n",
    "- Executed on docker container built using the Dockerfile in the QuantumKatas repository.\n",
    "- It had few issues with iqsharp and proj deps. Fixed it. See [PR](https://github.com/microsoft/QuantumKatas/pull/900)"
   ]
  },
  {
   "cell_type": "markdown",
   "metadata": {},
   "source": [
    "### Load train and test data"
   ]
  },
  {
   "cell_type": "code",
   "execution_count": 1,
   "metadata": {},
   "outputs": [],
   "source": [
    "import json\n",
    "\n",
    "# load data from json file\n",
    "with open('train_test_split.json', 'r') as f:\n",
    "    data = json.load(f)\n",
    "    \n",
    "X_train_list = data['train']['features']\n",
    "y_train_list = data['train']['labels']\n",
    "\n",
    "X_test_list = data['test']['features']\n",
    "y_test_list = data['test']['labels']"
   ]
  },
  {
   "cell_type": "code",
   "execution_count": 2,
   "metadata": {},
   "outputs": [
    {
     "data": {
      "text/plain": [
       "[[3.1971339922894186,\n",
       "  0.12505377611333468,\n",
       "  1.3751465918455963,\n",
       "  1.1160536907441139,\n",
       "  3.682356070820062,\n",
       "  3.3834974371145563,\n",
       "  4.460897838524227,\n",
       "  0.43469416314708076],\n",
       " [2.1096090984263522,\n",
       "  0.14898609719035172,\n",
       "  1.0931898740180168,\n",
       "  2.526776440516812,\n",
       "  0.13267984841931812,\n",
       "  0.9941882534332425,\n",
       "  3.249422188897616,\n",
       "  2.724707403016083],\n",
       " [1.1022031102034835,\n",
       "  2.946328419379544,\n",
       "  4.047152283389133,\n",
       "  0.032493798390305084,\n",
       "  4.02909625916404,\n",
       "  3.4906969749411343,\n",
       "  1.7012525825899594,\n",
       "  0.7773974990589078],\n",
       " [4.786065361033906,\n",
       "  1.682972725563134,\n",
       "  0.46372921690073954,\n",
       "  0.48358188416732006,\n",
       "  4.237471831737299,\n",
       "  3.0186301568344556,\n",
       "  4.035641366371901,\n",
       "  3.6486589334690893],\n",
       " [2.6811404572735036,\n",
       "  4.865578819896853,\n",
       "  1.8926718860417675,\n",
       "  2.760203156366135,\n",
       "  4.1470233212649745,\n",
       "  3.0925987618212303,\n",
       "  4.308534501553886,\n",
       "  2.88676072628381],\n",
       " [3.5228591810746175,\n",
       "  0.22912191827831108,\n",
       "  1.1394913782577343,\n",
       "  1.4469398180105357,\n",
       "  0.3989598846181375,\n",
       "  1.163954431805151,\n",
       "  0.5050071470486456,\n",
       "  1.3898680155504606],\n",
       " [3.178422221322001,\n",
       "  1.8241608948504213,\n",
       "  1.850904835584413,\n",
       "  1.0475351538574385,\n",
       "  1.334889110245567,\n",
       "  4.68327293856247,\n",
       "  3.2401769262329676,\n",
       "  3.045655028334941],\n",
       " [0.8556932409904849,\n",
       "  3.645633989751746,\n",
       "  0.817012468809642,\n",
       "  1.897277208788239,\n",
       "  4.9476167531829764,\n",
       "  3.1999987992704644,\n",
       "  2.784748718873231,\n",
       "  3.423071254949373]]"
      ]
     },
     "execution_count": 2,
     "metadata": {},
     "output_type": "execute_result"
    }
   ],
   "source": [
    "## Generate Initial Weights\n",
    "\n",
    "import random\n",
    "# Set a seed for reproducibility\n",
    "random.seed(42)\n",
    "\n",
    "# Function to generate random numbers between 0 and 5\n",
    "def generate_random_numbers():\n",
    "    return random.uniform(0, 5)\n",
    "\n",
    "\n",
    "initial_weights = []\n",
    "for i in range(8):\n",
    "    arr = []\n",
    "    for i in range(8):\n",
    "        arr.append(generate_random_numbers())\n",
    "    initial_weights.append(arr)\n",
    "    \n",
    "initial_weights"
   ]
  },
  {
   "cell_type": "markdown",
   "metadata": {},
   "source": [
    "## Quantum Machine Learning"
   ]
  },
  {
   "cell_type": "code",
   "execution_count": 3,
   "metadata": {},
   "outputs": [
    {
     "name": "stdout",
     "output_type": "stream",
     "text": [
      "Preparing Q# environment...\n"
     ]
    },
    {
     "data": {
      "application/x-qsharp-data": "{\"LastUpdated\":\"2024-04-14T19:20:47.6451043+00:00\",\"IsCompleted\":false,\"Description\":\"Adding package Microsoft.Quantum.MachineLearning::0.28.302812\",\"Subtask\":null}",
      "text/plain": [
       "Adding package Microsoft.Quantum.MachineLearning::0.28.302812."
      ]
     },
     "metadata": {},
     "output_type": "display_data"
    },
    {
     "data": {
      "application/x-qsharp-data": "{\"LastUpdated\":\"2024-04-14T19:20:47.8286723+00:00\",\"IsCompleted\":false,\"Description\":\"Reloading workspace\",\"Subtask\":null}",
      "text/plain": [
       "Reloading workspace."
      ]
     },
     "metadata": {},
     "output_type": "display_data"
    }
   ],
   "source": [
    "import json\n",
    "import numpy as np\n",
    "import matplotlib.pyplot as plt\n",
    "import matplotlib.colors as colors\n",
    "import matplotlib.cm as cmx\n",
    "plt.style.use('ggplot')\n",
    "import qsharp\n",
    "qsharp.packages.add(\"Microsoft.Quantum.MachineLearning::0.28.302812\")\n",
    "qsharp.reload()\n"
   ]
  },
  {
   "cell_type": "code",
   "execution_count": 4,
   "metadata": {},
   "outputs": [],
   "source": [
    "from Microsoft.Quantum.Samples import (\n",
    "    TrainModel, ValidateModel, ClassifyModel\n",
    ")"
   ]
  },
  {
   "cell_type": "code",
   "execution_count": 5,
   "metadata": {},
   "outputs": [
    {
     "ename": "KeyboardInterrupt",
     "evalue": "",
     "output_type": "error",
     "traceback": [
      "\u001b[0;31m---------------------------------------------------------------------------\u001b[0m",
      "\u001b[0;31mKeyboardInterrupt\u001b[0m                         Traceback (most recent call last)",
      "Cell \u001b[0;32mIn[5], line 1\u001b[0m\n\u001b[0;32m----> 1\u001b[0m weights, bias \u001b[38;5;241m=\u001b[39m \u001b[43mTrainModel\u001b[49m\u001b[38;5;241;43m.\u001b[39;49m\u001b[43msimulate\u001b[49m\u001b[43m(\u001b[49m\n\u001b[1;32m      2\u001b[0m \u001b[43m    \u001b[49m\u001b[43mtrainingVectors\u001b[49m\u001b[38;5;241;43m=\u001b[39;49m\u001b[43mX_train_list\u001b[49m\u001b[43m,\u001b[49m\n\u001b[1;32m      3\u001b[0m \u001b[43m    \u001b[49m\u001b[43mtrainingLabels\u001b[49m\u001b[38;5;241;43m=\u001b[39;49m\u001b[43my_train_list\u001b[49m\u001b[43m,\u001b[49m\n\u001b[1;32m      4\u001b[0m \u001b[43m    \u001b[49m\u001b[43minitialParameters\u001b[49m\u001b[38;5;241;43m=\u001b[39;49m\u001b[43minitial_weights\u001b[49m\u001b[43m,\u001b[49m\n\u001b[1;32m      5\u001b[0m \u001b[43m    \u001b[49m\u001b[43mverbose\u001b[49m\u001b[38;5;241;43m=\u001b[39;49m\u001b[38;5;28;43;01mTrue\u001b[39;49;00m\n\u001b[1;32m      6\u001b[0m \u001b[43m)\u001b[49m\n",
      "File \u001b[0;32m/usr/local/lib/python3.9/site-packages/qsharp/loader.py:92\u001b[0m, in \u001b[0;36mQSharpCallable.simulate\u001b[0;34m(self, **kwargs)\u001b[0m\n\u001b[1;32m     87\u001b[0m \u001b[38;5;28;01mdef\u001b[39;00m \u001b[38;5;21msimulate\u001b[39m(\u001b[38;5;28mself\u001b[39m, \u001b[38;5;241m*\u001b[39m\u001b[38;5;241m*\u001b[39mkwargs) \u001b[38;5;241m-\u001b[39m\u001b[38;5;241m>\u001b[39m Any:\n\u001b[1;32m     88\u001b[0m \u001b[38;5;250m    \u001b[39m\u001b[38;5;124;03m\"\"\"\u001b[39;00m\n\u001b[1;32m     89\u001b[0m \u001b[38;5;124;03m    Executes this function or operation on the QuantumSimulator target\u001b[39;00m\n\u001b[1;32m     90\u001b[0m \u001b[38;5;124;03m    machine, returning its output as a Python object.\u001b[39;00m\n\u001b[1;32m     91\u001b[0m \u001b[38;5;124;03m    \"\"\"\u001b[39;00m\n\u001b[0;32m---> 92\u001b[0m     \u001b[38;5;28;01mreturn\u001b[39;00m \u001b[43mqsharp\u001b[49m\u001b[38;5;241;43m.\u001b[39;49m\u001b[43mclient\u001b[49m\u001b[38;5;241;43m.\u001b[39;49m\u001b[43msimulate\u001b[49m\u001b[43m(\u001b[49m\u001b[38;5;28;43mself\u001b[39;49m\u001b[43m,\u001b[49m\u001b[43m \u001b[49m\u001b[38;5;241;43m*\u001b[39;49m\u001b[38;5;241;43m*\u001b[39;49m\u001b[43mkwargs\u001b[49m\u001b[43m)\u001b[49m\n",
      "File \u001b[0;32m/usr/local/lib/python3.9/site-packages/qsharp/clients/iqsharp.py:178\u001b[0m, in \u001b[0;36mIQSharpClient.simulate\u001b[0;34m(self, op, **kwargs)\u001b[0m\n\u001b[1;32m    176\u001b[0m \u001b[38;5;28;01mdef\u001b[39;00m \u001b[38;5;21msimulate\u001b[39m(\u001b[38;5;28mself\u001b[39m, op, \u001b[38;5;241m*\u001b[39m\u001b[38;5;241m*\u001b[39mkwargs) \u001b[38;5;241m-\u001b[39m\u001b[38;5;241m>\u001b[39m Any:\n\u001b[1;32m    177\u001b[0m     kwargs\u001b[38;5;241m.\u001b[39msetdefault(\u001b[38;5;124m'\u001b[39m\u001b[38;5;124m_timeout_\u001b[39m\u001b[38;5;124m'\u001b[39m, \u001b[38;5;28;01mNone\u001b[39;00m)\n\u001b[0;32m--> 178\u001b[0m     \u001b[38;5;28;01mreturn\u001b[39;00m \u001b[38;5;28;43mself\u001b[39;49m\u001b[38;5;241;43m.\u001b[39;49m\u001b[43m_execute_callable_magic\u001b[49m\u001b[43m(\u001b[49m\u001b[38;5;124;43m'\u001b[39;49m\u001b[38;5;124;43msimulate\u001b[39;49m\u001b[38;5;124;43m'\u001b[39;49m\u001b[43m,\u001b[49m\u001b[43m \u001b[49m\u001b[43mop\u001b[49m\u001b[43m,\u001b[49m\u001b[43m \u001b[49m\u001b[38;5;241;43m*\u001b[39;49m\u001b[38;5;241;43m*\u001b[39;49m\u001b[43mkwargs\u001b[49m\u001b[43m)\u001b[49m\n",
      "File \u001b[0;32m/usr/local/lib/python3.9/site-packages/qsharp/clients/iqsharp.py:278\u001b[0m, in \u001b[0;36mIQSharpClient._execute_callable_magic\u001b[0;34m(self, magic, op, raise_on_stderr, _quiet_, **kwargs)\u001b[0m\n\u001b[1;32m    273\u001b[0m \u001b[38;5;28;01mdef\u001b[39;00m \u001b[38;5;21m_execute_callable_magic\u001b[39m(\u001b[38;5;28mself\u001b[39m, magic : \u001b[38;5;28mstr\u001b[39m, op,\n\u001b[1;32m    274\u001b[0m         raise_on_stderr : \u001b[38;5;28mbool\u001b[39m \u001b[38;5;241m=\u001b[39m \u001b[38;5;28;01mFalse\u001b[39;00m,\n\u001b[1;32m    275\u001b[0m         _quiet_ : \u001b[38;5;28mbool\u001b[39m \u001b[38;5;241m=\u001b[39m \u001b[38;5;28;01mFalse\u001b[39;00m,\n\u001b[1;32m    276\u001b[0m         \u001b[38;5;241m*\u001b[39m\u001b[38;5;241m*\u001b[39mkwargs\n\u001b[1;32m    277\u001b[0m ) \u001b[38;5;241m-\u001b[39m\u001b[38;5;241m>\u001b[39m Any:\n\u001b[0;32m--> 278\u001b[0m     \u001b[38;5;28;01mreturn\u001b[39;00m \u001b[38;5;28;43mself\u001b[39;49m\u001b[38;5;241;43m.\u001b[39;49m\u001b[43m_execute_magic\u001b[49m\u001b[43m(\u001b[49m\n\u001b[1;32m    279\u001b[0m \u001b[43m        \u001b[49m\u001b[38;5;124;43mf\u001b[39;49m\u001b[38;5;124;43m\"\u001b[39;49m\u001b[38;5;132;43;01m{\u001b[39;49;00m\u001b[43mmagic\u001b[49m\u001b[38;5;132;43;01m}\u001b[39;49;00m\u001b[38;5;124;43m \u001b[39;49m\u001b[38;5;132;43;01m{\u001b[39;49;00m\u001b[43mop\u001b[49m\u001b[38;5;241;43m.\u001b[39;49m\u001b[43m_name\u001b[49m\u001b[38;5;132;43;01m}\u001b[39;49;00m\u001b[38;5;124;43m\"\u001b[39;49m\u001b[43m,\u001b[49m\n\u001b[1;32m    280\u001b[0m \u001b[43m        \u001b[49m\u001b[43mraise_on_stderr\u001b[49m\u001b[38;5;241;43m=\u001b[39;49m\u001b[43mraise_on_stderr\u001b[49m\u001b[43m,\u001b[49m\n\u001b[1;32m    281\u001b[0m \u001b[43m        \u001b[49m\u001b[43m_quiet_\u001b[49m\u001b[38;5;241;43m=\u001b[39;49m\u001b[43m_quiet_\u001b[49m\u001b[43m,\u001b[49m\n\u001b[1;32m    282\u001b[0m \u001b[43m        \u001b[49m\u001b[38;5;241;43m*\u001b[39;49m\u001b[38;5;241;43m*\u001b[39;49m\u001b[43mkwargs\u001b[49m\n\u001b[1;32m    283\u001b[0m \u001b[43m    \u001b[49m\u001b[43m)\u001b[49m\n",
      "File \u001b[0;32m/usr/local/lib/python3.9/site-packages/qsharp/clients/iqsharp.py:268\u001b[0m, in \u001b[0;36mIQSharpClient._execute_magic\u001b[0;34m(self, magic, raise_on_stderr, _quiet_, return_full_result, **kwargs)\u001b[0m\n\u001b[1;32m    266\u001b[0m \u001b[38;5;28;01mdef\u001b[39;00m \u001b[38;5;21m_execute_magic\u001b[39m(\u001b[38;5;28mself\u001b[39m, magic : \u001b[38;5;28mstr\u001b[39m, raise_on_stderr : \u001b[38;5;28mbool\u001b[39m \u001b[38;5;241m=\u001b[39m \u001b[38;5;28;01mFalse\u001b[39;00m, _quiet_ : \u001b[38;5;28mbool\u001b[39m \u001b[38;5;241m=\u001b[39m \u001b[38;5;28;01mFalse\u001b[39;00m, return_full_result\u001b[38;5;241m=\u001b[39m\u001b[38;5;28;01mFalse\u001b[39;00m, \u001b[38;5;241m*\u001b[39m\u001b[38;5;241m*\u001b[39mkwargs) \u001b[38;5;241m-\u001b[39m\u001b[38;5;241m>\u001b[39m Any:\n\u001b[1;32m    267\u001b[0m     _timeout_ \u001b[38;5;241m=\u001b[39m kwargs\u001b[38;5;241m.\u001b[39mpop(\u001b[38;5;124m'\u001b[39m\u001b[38;5;124m_timeout_\u001b[39m\u001b[38;5;124m'\u001b[39m, DEFAULT_TIMEOUT)\n\u001b[0;32m--> 268\u001b[0m     \u001b[38;5;28;01mreturn\u001b[39;00m \u001b[38;5;28;43mself\u001b[39;49m\u001b[38;5;241;43m.\u001b[39;49m\u001b[43m_execute\u001b[49m\u001b[43m(\u001b[49m\n\u001b[1;32m    269\u001b[0m \u001b[43m        \u001b[49m\u001b[38;5;124;43mf\u001b[39;49m\u001b[38;5;124;43m'\u001b[39;49m\u001b[38;5;124;43m%\u001b[39;49m\u001b[38;5;132;43;01m{\u001b[39;49;00m\u001b[43mmagic\u001b[49m\u001b[38;5;132;43;01m}\u001b[39;49;00m\u001b[38;5;124;43m \u001b[39;49m\u001b[38;5;132;43;01m{\u001b[39;49;00m\u001b[43mjson\u001b[49m\u001b[38;5;241;43m.\u001b[39;49m\u001b[43mdumps\u001b[49m\u001b[43m(\u001b[49m\u001b[43mmap_tuples\u001b[49m\u001b[43m(\u001b[49m\u001b[43mkwargs\u001b[49m\u001b[43m)\u001b[49m\u001b[43m)\u001b[49m\u001b[38;5;132;43;01m}\u001b[39;49;00m\u001b[38;5;124;43m'\u001b[39;49m\u001b[43m,\u001b[49m\n\u001b[1;32m    270\u001b[0m \u001b[43m        \u001b[49m\u001b[43mraise_on_stderr\u001b[49m\u001b[38;5;241;43m=\u001b[39;49m\u001b[43mraise_on_stderr\u001b[49m\u001b[43m,\u001b[49m\u001b[43m \u001b[49m\u001b[43m_quiet_\u001b[49m\u001b[38;5;241;43m=\u001b[39;49m\u001b[43m_quiet_\u001b[49m\u001b[43m,\u001b[49m\u001b[43m \u001b[49m\u001b[43m_timeout_\u001b[49m\u001b[38;5;241;43m=\u001b[39;49m\u001b[43m_timeout_\u001b[49m\u001b[43m,\u001b[49m\u001b[43m \u001b[49m\u001b[43mreturn_full_result\u001b[49m\u001b[38;5;241;43m=\u001b[39;49m\u001b[43mreturn_full_result\u001b[49m\n\u001b[1;32m    271\u001b[0m \u001b[43m    \u001b[49m\u001b[43m)\u001b[49m\n",
      "File \u001b[0;32m/usr/local/lib/python3.9/site-packages/qsharp/clients/iqsharp.py:358\u001b[0m, in \u001b[0;36mIQSharpClient._execute\u001b[0;34m(self, input, return_full_result, raise_on_stderr, output_hook, display_data_handler, _timeout_, _quiet_, **kwargs)\u001b[0m\n\u001b[1;32m    356\u001b[0m         \u001b[38;5;28;01mraise\u001b[39;00m AlreadyExecutingError(\u001b[38;5;124m\"\u001b[39m\u001b[38;5;124mCannot execute through the IQ# client while another execution is completing.\u001b[39m\u001b[38;5;124m\"\u001b[39m)\n\u001b[1;32m    357\u001b[0m     \u001b[38;5;28mself\u001b[39m\u001b[38;5;241m.\u001b[39m_busy \u001b[38;5;241m=\u001b[39m \u001b[38;5;28;01mTrue\u001b[39;00m\n\u001b[0;32m--> 358\u001b[0m     reply \u001b[38;5;241m=\u001b[39m \u001b[38;5;28;43mself\u001b[39;49m\u001b[38;5;241;43m.\u001b[39;49m\u001b[43mkernel_client\u001b[49m\u001b[38;5;241;43m.\u001b[39;49m\u001b[43mexecute_interactive\u001b[49m\u001b[43m(\u001b[49m\u001b[38;5;28;43minput\u001b[39;49m\u001b[43m,\u001b[49m\u001b[43m \u001b[49m\u001b[43mtimeout\u001b[49m\u001b[38;5;241;43m=\u001b[39;49m\u001b[43m_timeout_\u001b[49m\u001b[43m,\u001b[49m\u001b[43m \u001b[49m\u001b[43moutput_hook\u001b[49m\u001b[38;5;241;43m=\u001b[39;49m\u001b[43m_output_hook\u001b[49m\u001b[43m,\u001b[49m\u001b[43m \u001b[49m\u001b[38;5;241;43m*\u001b[39;49m\u001b[38;5;241;43m*\u001b[39;49m\u001b[43mkwargs\u001b[49m\u001b[43m)\u001b[49m\n\u001b[1;32m    359\u001b[0m \u001b[38;5;28;01mfinally\u001b[39;00m:\n\u001b[1;32m    360\u001b[0m     \u001b[38;5;28mself\u001b[39m\u001b[38;5;241m.\u001b[39m_busy \u001b[38;5;241m=\u001b[39m \u001b[38;5;28;01mFalse\u001b[39;00m\n",
      "File \u001b[0;32m/usr/local/lib/python3.9/site-packages/jupyter_core/utils/__init__.py:158\u001b[0m, in \u001b[0;36mrun_sync.<locals>.wrapped\u001b[0;34m(*args, **kwargs)\u001b[0m\n\u001b[1;32m    156\u001b[0m     \u001b[38;5;28;01mif\u001b[39;00m name \u001b[38;5;129;01mnot\u001b[39;00m \u001b[38;5;129;01min\u001b[39;00m _runner_map:\n\u001b[1;32m    157\u001b[0m         _runner_map[name] \u001b[38;5;241m=\u001b[39m _TaskRunner()\n\u001b[0;32m--> 158\u001b[0m     \u001b[38;5;28;01mreturn\u001b[39;00m \u001b[43m_runner_map\u001b[49m\u001b[43m[\u001b[49m\u001b[43mname\u001b[49m\u001b[43m]\u001b[49m\u001b[38;5;241;43m.\u001b[39;49m\u001b[43mrun\u001b[49m\u001b[43m(\u001b[49m\u001b[43minner\u001b[49m\u001b[43m)\u001b[49m\n\u001b[1;32m    159\u001b[0m \u001b[38;5;28;01mexcept\u001b[39;00m \u001b[38;5;167;01mRuntimeError\u001b[39;00m:\n\u001b[1;32m    160\u001b[0m     \u001b[38;5;28;01mpass\u001b[39;00m\n",
      "File \u001b[0;32m/usr/local/lib/python3.9/site-packages/jupyter_core/utils/__init__.py:125\u001b[0m, in \u001b[0;36m_TaskRunner.run\u001b[0;34m(self, coro)\u001b[0m\n\u001b[1;32m    123\u001b[0m         \u001b[38;5;28mself\u001b[39m\u001b[38;5;241m.\u001b[39m__runner_thread\u001b[38;5;241m.\u001b[39mstart()\n\u001b[1;32m    124\u001b[0m fut \u001b[38;5;241m=\u001b[39m asyncio\u001b[38;5;241m.\u001b[39mrun_coroutine_threadsafe(coro, \u001b[38;5;28mself\u001b[39m\u001b[38;5;241m.\u001b[39m__io_loop)\n\u001b[0;32m--> 125\u001b[0m \u001b[38;5;28;01mreturn\u001b[39;00m \u001b[43mfut\u001b[49m\u001b[38;5;241;43m.\u001b[39;49m\u001b[43mresult\u001b[49m\u001b[43m(\u001b[49m\u001b[38;5;28;43;01mNone\u001b[39;49;00m\u001b[43m)\u001b[49m\n",
      "File \u001b[0;32m/usr/local/lib/python3.9/concurrent/futures/_base.py:441\u001b[0m, in \u001b[0;36mFuture.result\u001b[0;34m(self, timeout)\u001b[0m\n\u001b[1;32m    438\u001b[0m \u001b[38;5;28;01melif\u001b[39;00m \u001b[38;5;28mself\u001b[39m\u001b[38;5;241m.\u001b[39m_state \u001b[38;5;241m==\u001b[39m FINISHED:\n\u001b[1;32m    439\u001b[0m     \u001b[38;5;28;01mreturn\u001b[39;00m \u001b[38;5;28mself\u001b[39m\u001b[38;5;241m.\u001b[39m__get_result()\n\u001b[0;32m--> 441\u001b[0m \u001b[38;5;28;43mself\u001b[39;49m\u001b[38;5;241;43m.\u001b[39;49m\u001b[43m_condition\u001b[49m\u001b[38;5;241;43m.\u001b[39;49m\u001b[43mwait\u001b[49m\u001b[43m(\u001b[49m\u001b[43mtimeout\u001b[49m\u001b[43m)\u001b[49m\n\u001b[1;32m    443\u001b[0m \u001b[38;5;28;01mif\u001b[39;00m \u001b[38;5;28mself\u001b[39m\u001b[38;5;241m.\u001b[39m_state \u001b[38;5;129;01min\u001b[39;00m [CANCELLED, CANCELLED_AND_NOTIFIED]:\n\u001b[1;32m    444\u001b[0m     \u001b[38;5;28;01mraise\u001b[39;00m CancelledError()\n",
      "File \u001b[0;32m/usr/local/lib/python3.9/threading.py:312\u001b[0m, in \u001b[0;36mCondition.wait\u001b[0;34m(self, timeout)\u001b[0m\n\u001b[1;32m    310\u001b[0m \u001b[38;5;28;01mtry\u001b[39;00m:    \u001b[38;5;66;03m# restore state no matter what (e.g., KeyboardInterrupt)\u001b[39;00m\n\u001b[1;32m    311\u001b[0m     \u001b[38;5;28;01mif\u001b[39;00m timeout \u001b[38;5;129;01mis\u001b[39;00m \u001b[38;5;28;01mNone\u001b[39;00m:\n\u001b[0;32m--> 312\u001b[0m         \u001b[43mwaiter\u001b[49m\u001b[38;5;241;43m.\u001b[39;49m\u001b[43macquire\u001b[49m\u001b[43m(\u001b[49m\u001b[43m)\u001b[49m\n\u001b[1;32m    313\u001b[0m         gotit \u001b[38;5;241m=\u001b[39m \u001b[38;5;28;01mTrue\u001b[39;00m\n\u001b[1;32m    314\u001b[0m     \u001b[38;5;28;01melse\u001b[39;00m:\n",
      "\u001b[0;31mKeyboardInterrupt\u001b[0m: "
     ]
    }
   ],
   "source": [
    "weights, bias = TrainModel.simulate(\n",
    "    trainingVectors=X_train_list,\n",
    "    trainingLabels=y_train_list,\n",
    "    initialParameters=initial_weights,\n",
    "    verbose=True\n",
    ")"
   ]
  },
  {
   "cell_type": "markdown",
   "metadata": {},
   "source": [
    "## Validate the model"
   ]
  },
  {
   "cell_type": "code",
   "execution_count": null,
   "metadata": {},
   "outputs": [],
   "source": [
    "miss_rate = ValidateModel.simulate(\n",
    "    validationVectors=X_test_list,\n",
    "    validationLabels=y_test_list,\n",
    "    parameters=weights, bias=bias\n",
    ")\n",
    "\n",
    "print(f\"Miss rate: {miss_rate:0.2%}\")"
   ]
  },
  {
   "cell_type": "markdown",
   "metadata": {},
   "source": [
    "## Classify"
   ]
  },
  {
   "cell_type": "code",
   "execution_count": null,
   "metadata": {},
   "outputs": [],
   "source": [
    "actual_labels = y_test_list\n",
    "classified_labels = ClassifyModel.simulate(\n",
    "    samples=X_test_list,\n",
    "    parameters=weights, bias=bias,\n",
    "    tolerance=0.005, nMeasurements=10_000\n",
    ")"
   ]
  },
  {
   "cell_type": "code",
   "execution_count": null,
   "metadata": {},
   "outputs": [],
   "source": [
    "cases = [(0, 0), (0, 1), (1, 1), (1, 0)]\n",
    "markers = [\n",
    "    '.' if actual == classified else 'x'\n",
    "    for (actual, classified) in cases\n",
    "]\n",
    "colormap = cmx.ScalarMappable(colors.Normalize(vmin=0, vmax=len(cases) - 1))\n",
    "colors = [colormap.to_rgba(idx_case) for (idx_case, case) in enumerate(cases)]\n"
   ]
  },
  {
   "cell_type": "code",
   "execution_count": null,
   "metadata": {},
   "outputs": [],
   "source": [
    "\n",
    "plt.figure(figsize=(12, 8))\n",
    "for (idx_case, ((actual, classified), marker, color)) in enumerate(zip(cases, markers, colors)):\n",
    "    mask = np.logical_and(np.equal(actual_labels, actual), np.equal(classified_labels, classified))\n",
    "    if not np.any(mask): continue\n",
    "    plt.scatter(\n",
    "        X_test_list[mask, 0], X_test_list[mask, 1],\n",
    "        label=f\"Was {actual}, classified {classified}\",\n",
    "        marker=marker, s=300, c=[color],\n",
    "    )\n",
    "plt.legend()"
   ]
  }
 ],
 "metadata": {
  "kernelspec": {
   "display_name": "Python 3 (ipykernel)",
   "language": "python",
   "name": "python3"
  },
  "language_info": {
   "codemirror_mode": {
    "name": "ipython",
    "version": 3
   },
   "file_extension": ".py",
   "mimetype": "text/x-python",
   "name": "python",
   "nbconvert_exporter": "python",
   "pygments_lexer": "ipython3",
   "version": "3.9.18"
  }
 },
 "nbformat": 4,
 "nbformat_minor": 2
}
