{
  "cells": [
    {
      "cell_type": "markdown",
      "source": [
        "# Programming Assignment 7. Exploring Grover's Search Algorithm\n",
        "\n",
        "In this assignment, you will explore the behavior of Grover's search algorithm on problem instances of increasing size. The problem we'll consider is finding bit strings that consisting of alternating bit pairs."
      ],
      "metadata": {}
    },
    {
      "cell_type": "markdown",
      "source": [
        "## Questions\n",
        "\n",
        "1. Implement the phase oracle for the given problem (2 points)\n",
        "2. Optimize your solution (3 points) - you need to submit only one oracle for both tasks 1 and 2, the points in task 2 are assigned based on how optimized your submission is.\n",
        "3. Find the optimal number of iterations for problem size N=3,4,5 (2 points) - submit the numbers you found and a brief description of the method you used to find them (possibly including the formulas). Note that your algorithm might not have 100% theoretical success probability at this number of iterations.\n",
        "4. Run Grover's search for N=3,4,5 on noiseless Rigetti simulator (1 point) - submit the 3 plots you obtain.\n",
        "5. Run Grover's search for N=3,4,5 on noisy Quantinuum simulator (2 points) - submit the 3 plots you obtain and a brief note of your thoughts on how they differ from the noiseless results. How would the results look like if you keep increasing the problem size?"
      ],
      "metadata": {}
    },
    {
      "cell_type": "code",
      "source": [
        "import matplotlib.pyplot as plt\n",
        "import qsharp\n"
      ],
      "outputs": [],
      "execution_count": 7,
      "metadata": {
        "vscode": {
          "languageId": "qsharp"
        }
      }
    },
    {
      "cell_type": "markdown",
      "source": [
        "## Task 1. Implement the phase oracle (2 points)\n",
        "First we need to define an oracle. \n",
        "For this example we will consider the function $f(x)$ which is equal to 1 when $x$ is a bit string of length $N$ in which odd pairs of adjacent bits are the same and even pairs differ. For any $N$ there will be two possible solutions, one starting with 0 and one starting with 1. So for this example the number of solutions is 2.\n",
        "\n",
        "Our $f$ will look like this:\n",
        "$$\n",
        "f(x) =  \\begin{cases} \n",
        "      1 & x = 00110011\\text{... or }11001100\\text{...}\\\\\n",
        "      0 & \\text{otherwise}\n",
        "   \\end{cases}\n",
        "$$"
      ],
      "metadata": {}
    },
    {
      "cell_type": "code",
      "source": [
        "%%qsharp\n",
        "function BuildPattern(n : Int, flag: Bool) : Bool[] {\n",
        "   mutable pattern = [];\n",
        "   mutable flagElement = false;\n",
        "   if flag == true {\n",
        "      set flagElement = false;\n",
        "   } else {\n",
        "      set flagElement = true;\n",
        "   }\n",
        "   for i in 0..n-1 {\n",
        "      if i % 2 == 0 {\n",
        "         if flagElement == true {\n",
        "            set flagElement = false;\n",
        "         } else {\n",
        "            set flagElement = true;\n",
        "         }\n",
        "      }\n",
        "      set pattern = pattern + [flagElement];\n",
        "   }\n",
        "   return pattern;\n",
        "}\n"
      ],
      "outputs": [],
      "execution_count": 8,
      "metadata": {
        "microsoft": {
          "language": "qsharp"
        },
        "vscode": {
          "languageId": "qsharp"
        }
      }
    },
    {
      "cell_type": "code",
      "source": [],
      "outputs": [],
      "execution_count": null,
      "metadata": {
        "jupyter": {
          "outputs_hidden": false,
          "source_hidden": false
        },
        "nteract": {
          "transient": {
            "deleting": false
          }
        }
      }
    },
    {
      "cell_type": "code",
      "source": [
        "%%qsharp\n",
        "\n",
        "open Microsoft.Quantum.Intrinsic;\n",
        "open Microsoft.Quantum.Canon;\n",
        "open Microsoft.Quantum.Convert;\n",
        "open Microsoft.Quantum.Math;\n",
        "\n",
        "operation AlternatingBitPairsOracle(qs : Qubit[]) : Unit {\n",
        "   let n = Length(qs);\n",
        "   let pattern1100 = BuildPattern(n, true);\n",
        "   let pattern0011 = BuildPattern(n, false);\n",
        "    use q = Qubit();\n",
        "    X(q);\n",
        "    ApplyControlledOnBitString(pattern1100, Z, qs, q);\n",
        "    ApplyControlledOnBitString(pattern0011, Z, qs, q);\n",
        "    X(q);\n",
        "}\n"
      ],
      "outputs": [],
      "execution_count": 9,
      "metadata": {
        "microsoft": {
          "language": "qsharp"
        },
        "vscode": {
          "languageId": "qsharp"
        }
      }
    },
    {
      "cell_type": "markdown",
      "source": [
        "You can use the following wrapper operation to print the effects your oracle has on the even superposition of basis states. \n",
        "\n",
        "**IMPORTANT**: depending on the version of `qsharp` package you're using, the output of `DumpMachine` will differ. Versions 1.0.34 and earlier reverse the order of qubits in the output, so if you run an oracle that correctly flips the phase of states $|110\\rangle$ and $|001\\rangle$ for a three-qubit state, DumpMachine will show them as $|011\\rangle$ and $|100\\rangle$. Versions 1.1 and later don't reverse the order of qubits, so the output will be as expected. You can check which version you're using from the notebook, by runinng `!pip list` in a separate cell and looking for `qsharp` package in the output."
      ],
      "metadata": {
        "nteract": {
          "transient": {
            "deleting": false
          }
        }
      }
    },
    {
      "cell_type": "code",
      "source": [
        "%%qsharp\n",
        "open Microsoft.Quantum.Diagnostics;\n",
        "\n",
        "// The operation that applies the oracle to an even superposition of all inputs and prints the resulting state\n",
        "operation DemoWrapper(N : Int) : Unit {\n",
        "    use qs = Qubit[N];\n",
        "    ApplyToEach(H, qs); \n",
        "    AlternatingBitPairsOracle(qs);\n",
        "    DumpMachine();\n",
        "    ResetAll(qs);\n",
        "}\n"
      ],
      "outputs": [],
      "execution_count": 4,
      "metadata": {
        "jupyter": {
          "outputs_hidden": false,
          "source_hidden": false
        },
        "microsoft": {
          "language": "qsharp"
        },
        "nteract": {
          "transient": {
            "deleting": false
          }
        },
        "vscode": {
          "languageId": "qsharp"
        }
      }
    },
    {
      "cell_type": "code",
      "source": [
        "qsharp.eval(\"DemoWrapper(5)\")\n"
      ],
      "outputs": [
        {
          "output_type": "stream",
          "name": "stdout",
          "text": "STATE:\n|00000⟩: 0.1768+0.0000𝑖\n|10111⟩: 0.1768+0.0000𝑖\n|10000⟩: 0.1768+0.0000𝑖\n|11101⟩: 0.1768+0.0000𝑖\n|11110⟩: 0.1768+0.0000𝑖\n|11011⟩: 0.1768+0.0000𝑖\n|00100⟩: 0.1768+0.0000𝑖\n|00001⟩: 0.1768+0.0000𝑖\n|00010⟩: 0.1768+0.0000𝑖\n|01111⟩: 0.1768+0.0000𝑖\n|01000⟩: 0.1768+0.0000𝑖\n|10100⟩: 0.1768+0.0000𝑖\n|10001⟩: 0.1768+0.0000𝑖\n|10010⟩: 0.1768+0.0000𝑖\n|11111⟩: 0.1768+0.0000𝑖\n|11000⟩: 0.1768+0.0000𝑖\n|00101⟩: 0.1768+0.0000𝑖\n|00110⟩: 0.1768+0.0000𝑖\n|00011⟩: 0.1768+0.0000𝑖\n|01100⟩: −0.1768+0.0000𝑖\n|01001⟩: 0.1768+0.0000𝑖\n|01010⟩: 0.1768+0.0000𝑖\n|10101⟩: 0.1768+0.0000𝑖\n|10110⟩: 0.1768+0.0000𝑖\n|10011⟩: −0.1768+0.0000𝑖\n|11100⟩: 0.1768+0.0000𝑖\n|11001⟩: 0.1768+0.0000𝑖\n|11010⟩: 0.1768+0.0000𝑖\n|00111⟩: 0.1768+0.0000𝑖\n|01101⟩: 0.1768+0.0000𝑖\n|01110⟩: 0.1768+0.0000𝑖\n|01011⟩: 0.1768+0.0000𝑖\n"
        }
      ],
      "execution_count": 5,
      "metadata": {
        "jupyter": {
          "outputs_hidden": false,
          "source_hidden": false
        },
        "nteract": {
          "transient": {
            "deleting": false
          }
        },
        "vscode": {
          "languageId": "qsharp"
        }
      }
    },
    {
      "cell_type": "markdown",
      "source": [
        "## Task 2. How far can you optimize your solution? (3 points)\n",
        "\n",
        "You can use the code below to estimate the resources required to run your solution. The scoring is done based on the case of $N = 5$.\n",
        "\n",
        "* If your solution gets a score above 1500, you'll get 0 points.\n",
        "* If your solution gets a score between 1000 and 1500, you'll get 1 point.\n",
        "* If your solution gets a score between 500 and 1000, you'll get 2 points.\n",
        "* If your solution gets a score under 500, you'll get 3 points."
      ],
      "metadata": {}
    },
    {
      "cell_type": "code",
      "source": [
        "%%qsharp\n",
        "open Microsoft.Quantum.Measurement;\n",
        "operation AlternatingBitPairsOracleWrapper(N : Int) : Result[] {\n",
        "    use qs = Qubit[N];\n",
        "    AlternatingBitPairsOracle(qs);\n",
        "    return MeasureEachZ(qs);\n",
        "}\n"
      ],
      "outputs": [],
      "execution_count": 6,
      "metadata": {
        "jupyter": {
          "outputs_hidden": false,
          "source_hidden": false
        },
        "microsoft": {
          "language": "qsharp"
        },
        "nteract": {
          "transient": {
            "deleting": false
          }
        },
        "vscode": {
          "languageId": "qsharp"
        }
      }
    },
    {
      "cell_type": "code",
      "source": [
        "# The function that extracts the relevant resource information from the resource estimation job results and produces your absolute score.\n",
        "def evaluate_results(res) : \n",
        "    width = res['physicalCounts']['breakdown']['algorithmicLogicalQubits']\n",
        "    depth = res['physicalCounts']['breakdown']['algorithmicLogicalDepth']\n",
        "    print(f\"Logical algorithmic qubits = {width}\")\n",
        "    print(f\"Algorithmic depth = {depth}\")\n",
        "    print(f\"Score = {width * depth}\")\n",
        "    return width * depth\n",
        "\n",
        "est = qsharp.estimate(\"AlternatingBitPairsOracleWrapper(5)\")\n",
        "evaluate_results(est)\n"
      ],
      "outputs": [
        {
          "output_type": "stream",
          "name": "stdout",
          "text": "Logical algorithmic qubits = 28\nAlgorithmic depth = 59\nScore = 1652\n"
        },
        {
          "output_type": "execute_result",
          "execution_count": 7,
          "data": {
            "text/plain": "1652"
          },
          "metadata": {}
        }
      ],
      "execution_count": 7,
      "metadata": {
        "jupyter": {
          "outputs_hidden": false,
          "source_hidden": false
        },
        "nteract": {
          "transient": {
            "deleting": false
          }
        },
        "vscode": {
          "languageId": "qsharp"
        }
      }
    },
    {
      "cell_type": "markdown",
      "source": [
        "### Task 3. Find the optimal number of iterations for $N = 3, 4, 5$ (2 points)\n",
        "\n",
        "The next cell implements Grover's search algorithm that takes two parameters: the number of bits in the strings we're looking for, and the number of iterations to run the algorithm for before measurement. \n",
        "\n",
        "Your task is to calculate the optimal number of iterations for $N = 3, 4, 5$ based on the size of the search space and the known number of problem solutions."
      ],
      "metadata": {}
    },
    {
      "cell_type": "code",
      "source": [
        "%%qsharp\n",
        "open Microsoft.Quantum.Measurement;\n",
        "operation Grovers(N : Int, iterations : Int) : Result[] {\n",
        "    use qs = Qubit[N];\n",
        "    ApplyToEach(H, qs);\n",
        "\n",
        "    for i in 1 .. iterations {\n",
        "        AlternatingBitPairsOracle(qs);\n",
        "        \n",
        "        within {\n",
        "            ApplyToEachA(H, qs);\n",
        "            ApplyToEachA(X, qs);\n",
        "        } apply {\n",
        "            Controlled Z(qs[...N - 2], qs[N - 1]);\n",
        "        }\n",
        "    }\n",
        "    let res = MeasureEachZ(qs);\n",
        "    ResetAll(qs);\n",
        "    return res;\n",
        "}\n"
      ],
      "outputs": [],
      "execution_count": 10,
      "metadata": {
        "jupyter": {
          "outputs_hidden": false,
          "source_hidden": false
        },
        "microsoft": {
          "language": "qsharp"
        },
        "nteract": {
          "transient": {
            "deleting": false
          }
        },
        "vscode": {
          "languageId": "qsharp"
        }
      }
    },
    {
      "cell_type": "markdown",
      "source": [
        "You can run a single simulation to see whether the measurement produced a state that is a solution to our problem. "
      ],
      "metadata": {}
    },
    {
      "cell_type": "code",
      "source": [
        "qsharp.eval(\"Grovers(5, 1)\")\n"
      ],
      "outputs": [
        {
          "output_type": "execute_result",
          "execution_count": 9,
          "data": {
            "text/plain": "[Zero, One, Zero, Zero, Zero]"
          },
          "metadata": {}
        }
      ],
      "execution_count": 9,
      "metadata": {
        "vscode": {
          "languageId": "qsharp"
        }
      }
    },
    {
      "cell_type": "markdown",
      "source": [
        "You can also run a series of simulations on a local simulator to see the percentage of shots for which a query returns a correct answer."
      ],
      "metadata": {}
    },
    {
      "cell_type": "code",
      "source": [
        "N = 5\n",
        "iterations = 6\n",
        "target1 = [qsharp.Result.One if (i // 2) % 2 == 1 else qsharp.Result.Zero for i in range(N)]\n",
        "target2 = [qsharp.Result.One if (i // 2) % 2 == 1 else qsharp.Result.Zero for i in range(2, N+2)]\n",
        "shots = 100\n",
        "correctCount = 0\n",
        "results = qsharp.run(f\"Grovers({N}, {iterations})\", shots=shots)\n",
        "\n",
        "for res in results:\n",
        "    if res == target1 or res == target2:\n",
        "        correctCount += 1\n",
        "\n",
        "print(f\"N={N}, iter={iterations} - {100 * correctCount/shots}% of queries returned a correct answer\")\n"
      ],
      "outputs": [
        {
          "output_type": "stream",
          "name": "stdout",
          "text": "N=5, iter=6 - 1.0% of queries returned a correct answer\n"
        }
      ],
      "execution_count": 10,
      "metadata": {
        "vscode": {
          "languageId": "qsharp"
        }
      }
    },
    {
      "cell_type": "markdown",
      "source": [
        "## Optimal Iterations\n",
        "\n",
        "- The optimal number of iterations for \\( N = 3 \\) is 1 iteration.\n",
        "- The optimal number of iterations for \\( N = 4 \\) is 6 iterations.\n",
        "- The optimal number of iterations for \\( N = 5 \\) is 15 iterations.\n",
        "\n"
      ],
      "metadata": {
        "nteract": {
          "transient": {
            "deleting": false
          }
        }
      }
    },
    {
      "cell_type": "code",
      "source": [],
      "outputs": [],
      "execution_count": null,
      "metadata": {
        "jupyter": {
          "source_hidden": false,
          "outputs_hidden": false
        },
        "nteract": {
          "transient": {
            "deleting": false
          }
        }
      }
    },
    {
      "cell_type": "markdown",
      "source": [
        "## Tasks 4-5. Run Grover's search for $N = 3, 4, 5$ on noiseless Rigetti simulator (1 point) and noisy Quantinuum emulator (2 points)\n",
        "\n",
        "* Run the Grover's search algorithm for the oracle you've implemented on Rigetti or IonQ noiseless simulator (`rigetti.sim.qvm` or `ionq.simulator`) for $N = 3, 4, 5$.\n",
        "* Run the Grover's search algorithm for the oracle you've implemented on Quantinuum noisy emulator (`quantinuum.sim.h1-1e`) for $N = 3, 4, 5$.\n",
        "* Plot the results in a 2x3 or 3x2 table to compare the results on the same problem instance side-by-side."
      ],
      "metadata": {}
    },
    {
      "cell_type": "code",
      "source": [
        "from azure.quantum import Workspace\n",
        "\n",
        "workspace = Workspace(\n",
        "            resource_id = \"/subscriptions/f5293a35-391c-46ba-ac13-97278ebecdc4/resourceGroups/AzureQuantum/providers/Microsoft.Quantum/Workspaces/CSYE6105\",\n",
        "            location = \"eastus\")\n",
        "\n",
        "qsharp.init(target_profile=qsharp.TargetProfile.Base)\n"
      ],
      "outputs": [
        {
          "output_type": "execute_result",
          "execution_count": 6,
          "data": {
            "application/x.qsharp-config": {
              "targetProfile": "base"
            },
            "text/plain": "Q# initialized with configuration: {'targetProfile': 'base'}"
          },
          "metadata": {}
        }
      ],
      "execution_count": 6,
      "metadata": {
        "vscode": {
          "languageId": "qsharp"
        }
      }
    },
    {
      "cell_type": "markdown",
      "source": [
        "**IMPORTANT:** After you call `qsharp.init`, you'll need to recompile the cells that define the oracle and Grover's search before proceeding."
      ],
      "metadata": {
        "nteract": {
          "transient": {
            "deleting": false
          }
        }
      }
    },
    {
      "cell_type": "code",
      "source": [
        "# Select the target here\n",
        "# target = workspace.get_targets(\"ionq.simulator\")\n"
      ],
      "outputs": [],
      "execution_count": 15,
      "metadata": {
        "vscode": {
          "languageId": "qsharp"
        }
      }
    },
    {
      "cell_type": "markdown",
      "source": [
        "## Simulator: rigetti.sim.qvm"
      ],
      "metadata": {}
    },
    {
      "cell_type": "code",
      "source": [
        "target_rigetti = workspace.get_targets(\"rigetti.sim.qvm\")"
      ],
      "outputs": [],
      "execution_count": 15,
      "metadata": {
        "jupyter": {
          "outputs_hidden": false,
          "source_hidden": false
        },
        "nteract": {
          "transient": {
            "deleting": false
          }
        }
      }
    },
    {
      "cell_type": "markdown",
      "source": [
        "### For N =3 (rigetti.sim.qvm)"
      ],
      "metadata": {}
    },
    {
      "cell_type": "code",
      "source": [
        "N = 3\n",
        "iterations = 1\n",
        "\n",
        "program = qsharp.compile(f\"Grovers({N}, {iterations})\")\n",
        "job = target_rigetti.submit(program, f\"Alternating bit pairs (Grover): N={N}, iter={iterations}\", shots=1000)\n"
      ],
      "outputs": [],
      "execution_count": 16,
      "metadata": {
        "vscode": {
          "languageId": "qsharp"
        }
      }
    },
    {
      "cell_type": "code",
      "source": [
        "# Once the job is complete, you can fetch its results and print them manually\n",
        "res = job.get_results()\n",
        "res\n"
      ],
      "outputs": [
        {
          "output_type": "stream",
          "name": "stdout",
          "text": "........"
        },
        {
          "output_type": "execute_result",
          "execution_count": 17,
          "data": {
            "text/plain": "{'[0, 0, 1]': 0.488, '[1, 1, 0]': 0.512}"
          },
          "metadata": {}
        }
      ],
      "execution_count": 17,
      "metadata": {
        "vscode": {
          "languageId": "qsharp"
        }
      }
    },
    {
      "cell_type": "markdown",
      "source": [
        "The cells below allow you to fetch job results based on its ID and plot them, highlighting the results that correspond to the correct answers."
      ],
      "metadata": {
        "nteract": {
          "transient": {
            "deleting": false
          }
        }
      }
    },
    {
      "cell_type": "code",
      "source": [
        "def plot_job_results(jobId, iter, sim):\n",
        "    # Fetch job results for the given jobId and plot them.\n",
        "    # \"iter\" and \"sim\" parameters are used to make the plot header more descriptive\n",
        "    job = workspace.get_job(jobId)\n",
        "    res = job.get_results()\n",
        "    print(res)\n",
        "\n",
        "    # Get keys and values, and convert keys from lists of bits to bitstrings\n",
        "    keys, outputFreq = zip(*sorted(res.items()))\n",
        "    keys = [key[1:-1].replace(\", \", \"\") for key in keys]\n",
        "    keyLen = len(keys[0])\n",
        "\n",
        "    # Generate correct bitstrings\n",
        "    firstBitString = \"\"\n",
        "    secondBitString = \"\"\n",
        "    for i in range(keyLen):\n",
        "        firstBitString += str((i // 2) % 2)\n",
        "        secondBitString += str(1 - (i // 2) % 2)\n",
        "\n",
        "    # Find the indices of correct answers in the array of keys\n",
        "    firstBitStringLoc = min(keys.index(firstBitString), keys.index(secondBitString))\n",
        "    secondBitStringLoc = max(keys.index(firstBitString), keys.index(secondBitString))\n",
        "\n",
        "    # Plot the frequencies of all keys, with red color marking correct answers and blue - incorrect ones\n",
        "    plt.bar(keys[0:firstBitStringLoc], outputFreq[0:firstBitStringLoc], color = \"blue\")\n",
        "    plt.bar(keys[firstBitStringLoc], outputFreq[firstBitStringLoc], color = \"red\")\n",
        "    plt.bar(keys[firstBitStringLoc+1:secondBitStringLoc], outputFreq[firstBitStringLoc+1:secondBitStringLoc], color = \"blue\")\n",
        "    plt.bar(keys[secondBitStringLoc], outputFreq[secondBitStringLoc], color = \"red\")\n",
        "    plt.bar(keys[secondBitStringLoc+1:], outputFreq[secondBitStringLoc+1:], color = \"blue\")\n",
        "    plt.xticks(rotation=90)\n",
        "    plt.title(\"{} results for N = {} iter = {}\".format(sim, keyLen, iter))\n",
        "    plt.show()\n"
      ],
      "outputs": [],
      "execution_count": 18,
      "metadata": {
        "vscode": {
          "languageId": "qsharp"
        }
      }
    },
    {
      "cell_type": "code",
      "source": [
        "plot_job_results(job.id, iterations, \"rigetti.sim.qvm\")\n"
      ],
      "outputs": [
        {
          "output_type": "stream",
          "name": "stdout",
          "text": "{'[0, 0, 1]': 0.488, '[1, 1, 0]': 0.512}\n"
        },
        {
          "output_type": "display_data",
          "data": {
            "text/plain": "<Figure size 640x480 with 1 Axes>",
            "image/png": "[encoded data removed]"
          },
          "metadata": {}
        }
      ],
      "execution_count": 19,
      "metadata": {
        "vscode": {
          "languageId": "qsharp"
        }
      }
    },
    {
      "cell_type": "code",
      "source": [],
      "outputs": [],
      "execution_count": null,
      "metadata": {
        "jupyter": {
          "outputs_hidden": false,
          "source_hidden": false
        },
        "nteract": {
          "transient": {
            "deleting": false
          }
        }
      }
    },
    {
      "cell_type": "markdown",
      "source": [
        "### For N =4 (rigetti.sim.qvm)"
      ],
      "metadata": {}
    },
    {
      "cell_type": "code",
      "source": [
        "N = 4\n",
        "iterations = 6\n",
        "\n",
        "program = qsharp.compile(f\"Grovers({N}, {iterations})\")\n",
        "job = target_rigetti.submit(program, f\"Alternating bit pairs (Grover): N={N}, iter={iterations}\", shots=1000)\n"
      ],
      "outputs": [],
      "execution_count": 20,
      "metadata": {
        "vscode": {
          "languageId": "qsharp"
        }
      }
    },
    {
      "cell_type": "code",
      "source": [
        "# Once the job is complete, you can fetch its results and print them manually\n",
        "res = job.get_results()\n",
        "res\n"
      ],
      "outputs": [
        {
          "output_type": "stream",
          "name": "stdout",
          "text": ".........."
        },
        {
          "output_type": "execute_result",
          "execution_count": 21,
          "data": {
            "text/plain": "{'[0, 0, 1, 1]': 0.52, '[1, 1, 0, 0]': 0.48}"
          },
          "metadata": {}
        }
      ],
      "execution_count": 21,
      "metadata": {
        "vscode": {
          "languageId": "qsharp"
        }
      }
    },
    {
      "cell_type": "markdown",
      "source": [
        "The cells below allow you to fetch job results based on its ID and plot them, highlighting the results that correspond to the correct answers."
      ],
      "metadata": {}
    },
    {
      "cell_type": "code",
      "source": [
        "def plot_job_results(jobId, iter, sim):\n",
        "    # Fetch job results for the given jobId and plot them.\n",
        "    # \"iter\" and \"sim\" parameters are used to make the plot header more descriptive\n",
        "    job = workspace.get_job(jobId)\n",
        "    res = job.get_results()\n",
        "    print(res)\n",
        "\n",
        "    # Get keys and values, and convert keys from lists of bits to bitstrings\n",
        "    keys, outputFreq = zip(*sorted(res.items()))\n",
        "    keys = [key[1:-1].replace(\", \", \"\") for key in keys]\n",
        "    keyLen = len(keys[0])\n",
        "\n",
        "    # Generate correct bitstrings\n",
        "    firstBitString = \"\"\n",
        "    secondBitString = \"\"\n",
        "    for i in range(keyLen):\n",
        "        firstBitString += str((i // 2) % 2)\n",
        "        secondBitString += str(1 - (i // 2) % 2)\n",
        "\n",
        "    # Find the indices of correct answers in the array of keys\n",
        "    firstBitStringLoc = min(keys.index(firstBitString), keys.index(secondBitString))\n",
        "    secondBitStringLoc = max(keys.index(firstBitString), keys.index(secondBitString))\n",
        "\n",
        "    # Plot the frequencies of all keys, with red color marking correct answers and blue - incorrect ones\n",
        "    plt.bar(keys[0:firstBitStringLoc], outputFreq[0:firstBitStringLoc], color = \"blue\")\n",
        "    plt.bar(keys[firstBitStringLoc], outputFreq[firstBitStringLoc], color = \"red\")\n",
        "    plt.bar(keys[firstBitStringLoc+1:secondBitStringLoc], outputFreq[firstBitStringLoc+1:secondBitStringLoc], color = \"blue\")\n",
        "    plt.bar(keys[secondBitStringLoc], outputFreq[secondBitStringLoc], color = \"red\")\n",
        "    plt.bar(keys[secondBitStringLoc+1:], outputFreq[secondBitStringLoc+1:], color = \"blue\")\n",
        "    plt.xticks(rotation=90)\n",
        "    plt.title(\"{} results for N = {} iter = {}\".format(sim, keyLen, iter))\n",
        "    plt.show()\n"
      ],
      "outputs": [],
      "execution_count": 22,
      "metadata": {
        "vscode": {
          "languageId": "qsharp"
        }
      }
    },
    {
      "cell_type": "code",
      "source": [
        "plot_job_results(job.id, iterations, \"rigetti.sim.qvm\")\n"
      ],
      "outputs": [
        {
          "output_type": "stream",
          "name": "stdout",
          "text": "{'[0, 0, 1, 1]': 0.52, '[1, 1, 0, 0]': 0.48}\n"
        },
        {
          "output_type": "display_data",
          "data": {
            "text/plain": "<Figure size 640x480 with 1 Axes>",
            "image/png": "[encoded data removed]"
          },
          "metadata": {}
        }
      ],
      "execution_count": 23,
      "metadata": {
        "vscode": {
          "languageId": "qsharp"
        }
      }
    },
    {
      "cell_type": "code",
      "source": [],
      "outputs": [],
      "execution_count": null,
      "metadata": {
        "vscode": {
          "languageId": "qsharp"
        }
      }
    },
    {
      "cell_type": "markdown",
      "source": [
        "### For N =5 (rigetti.sim.qvm)"
      ],
      "metadata": {}
    },
    {
      "cell_type": "code",
      "source": [
        "N = 5\n",
        "iterations = 15\n",
        "\n",
        "program = qsharp.compile(f\"Grovers({N}, {iterations})\")\n",
        "job = target_rigetti.submit(program, f\"Alternating bit pairs (Grover): N={N}, iter={iterations}\", shots=1000)\n"
      ],
      "outputs": [],
      "execution_count": 24,
      "metadata": {
        "vscode": {
          "languageId": "qsharp"
        }
      }
    },
    {
      "cell_type": "code",
      "source": [
        "# Once the job is complete, you can fetch its results and print them manually\n",
        "res = job.get_results()\n",
        "res\n"
      ],
      "outputs": [
        {
          "output_type": "stream",
          "name": "stdout",
          "text": "................"
        },
        {
          "output_type": "execute_result",
          "execution_count": 25,
          "data": {
            "text/plain": "{'[0, 0, 1, 1, 0]': 0.501, '[1, 1, 0, 0, 1]': 0.499}"
          },
          "metadata": {}
        }
      ],
      "execution_count": 25,
      "metadata": {
        "vscode": {
          "languageId": "qsharp"
        }
      }
    },
    {
      "cell_type": "markdown",
      "source": [
        "The cells below allow you to fetch job results based on its ID and plot them, highlighting the results that correspond to the correct answers."
      ],
      "metadata": {}
    },
    {
      "cell_type": "code",
      "source": [
        "def plot_job_results(jobId, iter, sim):\n",
        "    # Fetch job results for the given jobId and plot them.\n",
        "    # \"iter\" and \"sim\" parameters are used to make the plot header more descriptive\n",
        "    job = workspace.get_job(jobId)\n",
        "    res = job.get_results()\n",
        "    print(res)\n",
        "\n",
        "    # Get keys and values, and convert keys from lists of bits to bitstrings\n",
        "    keys, outputFreq = zip(*sorted(res.items()))\n",
        "    keys = [key[1:-1].replace(\", \", \"\") for key in keys]\n",
        "    keyLen = len(keys[0])\n",
        "\n",
        "    # Generate correct bitstrings\n",
        "    firstBitString = \"\"\n",
        "    secondBitString = \"\"\n",
        "    for i in range(keyLen):\n",
        "        firstBitString += str((i // 2) % 2)\n",
        "        secondBitString += str(1 - (i // 2) % 2)\n",
        "\n",
        "    # Find the indices of correct answers in the array of keys\n",
        "    firstBitStringLoc = min(keys.index(firstBitString), keys.index(secondBitString))\n",
        "    secondBitStringLoc = max(keys.index(firstBitString), keys.index(secondBitString))\n",
        "\n",
        "    # Plot the frequencies of all keys, with red color marking correct answers and blue - incorrect ones\n",
        "    plt.bar(keys[0:firstBitStringLoc], outputFreq[0:firstBitStringLoc], color = \"blue\")\n",
        "    plt.bar(keys[firstBitStringLoc], outputFreq[firstBitStringLoc], color = \"red\")\n",
        "    plt.bar(keys[firstBitStringLoc+1:secondBitStringLoc], outputFreq[firstBitStringLoc+1:secondBitStringLoc], color = \"blue\")\n",
        "    plt.bar(keys[secondBitStringLoc], outputFreq[secondBitStringLoc], color = \"red\")\n",
        "    plt.bar(keys[secondBitStringLoc+1:], outputFreq[secondBitStringLoc+1:], color = \"blue\")\n",
        "    plt.xticks(rotation=90)\n",
        "    plt.title(\"{} results for N = {} iter = {}\".format(sim, keyLen, iter))\n",
        "    plt.show()\n"
      ],
      "outputs": [],
      "execution_count": 26,
      "metadata": {
        "vscode": {
          "languageId": "qsharp"
        }
      }
    },
    {
      "cell_type": "code",
      "source": [
        "plot_job_results(job.id, iterations, \"rigetti.sim.qvm\")\n"
      ],
      "outputs": [
        {
          "output_type": "stream",
          "name": "stdout",
          "text": "{'[0, 0, 1, 1, 0]': 0.501, '[1, 1, 0, 0, 1]': 0.499}\n"
        },
        {
          "output_type": "display_data",
          "data": {
            "text/plain": "<Figure size 640x480 with 1 Axes>",
            "image/png": "[encoded data removed]"
          },
          "metadata": {}
        }
      ],
      "execution_count": 27,
      "metadata": {
        "vscode": {
          "languageId": "qsharp"
        }
      }
    },
    {
      "cell_type": "markdown",
      "source": [
        "## Simulator \"quantinuum.sim.h1-1e\""
      ],
      "metadata": {}
    },
    {
      "cell_type": "code",
      "source": [
        "target_quantinuum = workspace.get_targets(\"quantinuum.sim.h1-1e\")"
      ],
      "outputs": [],
      "execution_count": 19,
      "metadata": {}
    },
    {
      "cell_type": "markdown",
      "source": [
        "### For N =3 (rigetti.sim.qvm)"
      ],
      "metadata": {}
    },
    {
      "cell_type": "code",
      "source": [
        "N = 3\n",
        "iterations = 1\n",
        "\n",
        "program = qsharp.compile(f\"Grovers({N}, {iterations})\")\n",
        "job = target_quantinuum.submit(program, f\"Alternating bit pairs (Grover): N={N}, iter={iterations}\", shots=1000)\n"
      ],
      "outputs": [],
      "execution_count": 20,
      "metadata": {
        "vscode": {
          "languageId": "qsharp"
        }
      }
    },
    {
      "cell_type": "code",
      "source": [
        "# Once the job is complete, you can fetch its results and print them manually\n",
        "res = job.get_results()\n",
        "res\n"
      ],
      "outputs": [
        {
          "output_type": "stream",
          "name": "stdout",
          "text": "..........."
        },
        {
          "output_type": "execute_result",
          "execution_count": 21,
          "data": {
            "text/plain": "{'[0, 0, 1]': 0.474,\n '[1, 1, 0]': 0.471,\n '[0, 1, 0]': 0.008,\n '[0, 0, 0]': 0.005,\n '[1, 0, 0]': 0.011,\n '[1, 0, 1]': 0.007,\n '[0, 1, 1]': 0.008,\n '[1, 1, 1]': 0.016}"
          },
          "metadata": {}
        }
      ],
      "execution_count": 21,
      "metadata": {
        "vscode": {
          "languageId": "qsharp"
        }
      }
    },
    {
      "cell_type": "markdown",
      "source": [
        "The cells below allow you to fetch job results based on its ID and plot them, highlighting the results that correspond to the correct answers."
      ],
      "metadata": {}
    },
    {
      "cell_type": "code",
      "source": [
        "def plot_job_results(jobId, iter, sim):\n",
        "    # Fetch job results for the given jobId and plot them.\n",
        "    # \"iter\" and \"sim\" parameters are used to make the plot header more descriptive\n",
        "    job = workspace.get_job(jobId)\n",
        "    res = job.get_results()\n",
        "    print(res)\n",
        "\n",
        "    # Get keys and values, and convert keys from lists of bits to bitstrings\n",
        "    keys, outputFreq = zip(*sorted(res.items()))\n",
        "    keys = [key[1:-1].replace(\", \", \"\") for key in keys]\n",
        "    keyLen = len(keys[0])\n",
        "\n",
        "    # Generate correct bitstrings\n",
        "    firstBitString = \"\"\n",
        "    secondBitString = \"\"\n",
        "    for i in range(keyLen):\n",
        "        firstBitString += str((i // 2) % 2)\n",
        "        secondBitString += str(1 - (i // 2) % 2)\n",
        "\n",
        "    # Find the indices of correct answers in the array of keys\n",
        "    firstBitStringLoc = min(keys.index(firstBitString), keys.index(secondBitString))\n",
        "    secondBitStringLoc = max(keys.index(firstBitString), keys.index(secondBitString))\n",
        "\n",
        "    # Plot the frequencies of all keys, with red color marking correct answers and blue - incorrect ones\n",
        "    plt.bar(keys[0:firstBitStringLoc], outputFreq[0:firstBitStringLoc], color = \"blue\")\n",
        "    plt.bar(keys[firstBitStringLoc], outputFreq[firstBitStringLoc], color = \"red\")\n",
        "    plt.bar(keys[firstBitStringLoc+1:secondBitStringLoc], outputFreq[firstBitStringLoc+1:secondBitStringLoc], color = \"blue\")\n",
        "    plt.bar(keys[secondBitStringLoc], outputFreq[secondBitStringLoc], color = \"red\")\n",
        "    plt.bar(keys[secondBitStringLoc+1:], outputFreq[secondBitStringLoc+1:], color = \"blue\")\n",
        "    plt.xticks(rotation=90)\n",
        "    plt.title(\"{} results for N = {} iter = {}\".format(sim, keyLen, iter))\n",
        "    plt.show()\n"
      ],
      "outputs": [],
      "execution_count": 22,
      "metadata": {
        "vscode": {
          "languageId": "qsharp"
        }
      }
    },
    {
      "cell_type": "code",
      "source": [
        "plot_job_results(job.id, iterations, \"quantinuum.sim.h1-1e\")\n"
      ],
      "outputs": [
        {
          "output_type": "stream",
          "name": "stdout",
          "text": "{'[0, 0, 1]': 0.474, '[1, 1, 0]': 0.471, '[0, 1, 0]': 0.008, '[0, 0, 0]': 0.005, '[1, 0, 0]': 0.011, '[1, 0, 1]': 0.007, '[0, 1, 1]': 0.008, '[1, 1, 1]': 0.016}\n"
        },
        {
          "output_type": "display_data",
          "data": {
            "text/plain": "<Figure size 640x480 with 1 Axes>",
            "image/png": "[encoded data removed]"
          },
          "metadata": {}
        }
      ],
      "execution_count": 23,
      "metadata": {
        "vscode": {
          "languageId": "qsharp"
        }
      }
    },
    {
      "cell_type": "code",
      "source": [],
      "outputs": [],
      "execution_count": null,
      "metadata": {}
    },
    {
      "cell_type": "markdown",
      "source": [
        "### For N =4 (rigetti.sim.qvm)"
      ],
      "metadata": {}
    },
    {
      "cell_type": "code",
      "source": [
        "N = 4\n",
        "iterations = 6\n",
        "\n",
        "program = qsharp.compile(f\"Grovers({N}, {iterations})\")\n",
        "job = target_quantinuum.submit(program, f\"Alternating bit pairs (Grover): N={N}, iter={iterations}\", shots=1000)\n"
      ],
      "outputs": [],
      "execution_count": 24,
      "metadata": {
        "vscode": {
          "languageId": "qsharp"
        }
      }
    },
    {
      "cell_type": "code",
      "source": [
        "# Once the job is complete, you can fetch its results and print them manually\n",
        "res = job.get_results()\n",
        "res\n"
      ],
      "outputs": [
        {
          "output_type": "stream",
          "name": "stdout",
          "text": "................."
        },
        {
          "output_type": "execute_result",
          "execution_count": 25,
          "data": {
            "text/plain": "{'[1, 1, 0, 0]': 0.267,\n '[1, 0, 0, 0]': 0.04,\n '[0, 0, 1, 1]': 0.252,\n '[0, 1, 1, 1]': 0.037,\n '[1, 1, 0, 1]': 0.038,\n '[1, 0, 1, 0]': 0.028,\n '[1, 1, 1, 1]': 0.045,\n '[0, 0, 0, 1]': 0.036,\n '[1, 1, 1, 0]': 0.034,\n '[0, 1, 0, 1]': 0.028,\n '[1, 0, 1, 1]': 0.044,\n '[0, 1, 1, 0]': 0.019,\n '[0, 0, 0, 0]': 0.037,\n '[1, 0, 0, 1]': 0.026,\n '[0, 1, 0, 0]': 0.036,\n '[0, 0, 1, 0]': 0.033}"
          },
          "metadata": {}
        }
      ],
      "execution_count": 25,
      "metadata": {
        "vscode": {
          "languageId": "qsharp"
        }
      }
    },
    {
      "cell_type": "markdown",
      "source": [
        "The cells below allow you to fetch job results based on its ID and plot them, highlighting the results that correspond to the correct answers."
      ],
      "metadata": {}
    },
    {
      "cell_type": "code",
      "source": [
        "def plot_job_results(jobId, iter, sim):\n",
        "    # Fetch job results for the given jobId and plot them.\n",
        "    # \"iter\" and \"sim\" parameters are used to make the plot header more descriptive\n",
        "    job = workspace.get_job(jobId)\n",
        "    res = job.get_results()\n",
        "    print(res)\n",
        "\n",
        "    # Get keys and values, and convert keys from lists of bits to bitstrings\n",
        "    keys, outputFreq = zip(*sorted(res.items()))\n",
        "    keys = [key[1:-1].replace(\", \", \"\") for key in keys]\n",
        "    keyLen = len(keys[0])\n",
        "\n",
        "    # Generate correct bitstrings\n",
        "    firstBitString = \"\"\n",
        "    secondBitString = \"\"\n",
        "    for i in range(keyLen):\n",
        "        firstBitString += str((i // 2) % 2)\n",
        "        secondBitString += str(1 - (i // 2) % 2)\n",
        "\n",
        "    # Find the indices of correct answers in the array of keys\n",
        "    firstBitStringLoc = min(keys.index(firstBitString), keys.index(secondBitString))\n",
        "    secondBitStringLoc = max(keys.index(firstBitString), keys.index(secondBitString))\n",
        "\n",
        "    # Plot the frequencies of all keys, with red color marking correct answers and blue - incorrect ones\n",
        "    plt.bar(keys[0:firstBitStringLoc], outputFreq[0:firstBitStringLoc], color = \"blue\")\n",
        "    plt.bar(keys[firstBitStringLoc], outputFreq[firstBitStringLoc], color = \"red\")\n",
        "    plt.bar(keys[firstBitStringLoc+1:secondBitStringLoc], outputFreq[firstBitStringLoc+1:secondBitStringLoc], color = \"blue\")\n",
        "    plt.bar(keys[secondBitStringLoc], outputFreq[secondBitStringLoc], color = \"red\")\n",
        "    plt.bar(keys[secondBitStringLoc+1:], outputFreq[secondBitStringLoc+1:], color = \"blue\")\n",
        "    plt.xticks(rotation=90)\n",
        "    plt.title(\"{} results for N = {} iter = {}\".format(sim, keyLen, iter))\n",
        "    plt.show()\n"
      ],
      "outputs": [],
      "execution_count": 26,
      "metadata": {
        "vscode": {
          "languageId": "qsharp"
        }
      }
    },
    {
      "cell_type": "code",
      "source": [
        "plot_job_results(job.id, iterations, \"quantinuum.sim.h1-1e\")\n"
      ],
      "outputs": [
        {
          "output_type": "stream",
          "name": "stdout",
          "text": "{'[1, 1, 0, 0]': 0.267, '[1, 0, 0, 0]': 0.04, '[0, 0, 1, 1]': 0.252, '[0, 1, 1, 1]': 0.037, '[1, 1, 0, 1]': 0.038, '[1, 0, 1, 0]': 0.028, '[1, 1, 1, 1]': 0.045, '[0, 0, 0, 1]': 0.036, '[1, 1, 1, 0]': 0.034, '[0, 1, 0, 1]': 0.028, '[1, 0, 1, 1]': 0.044, '[0, 1, 1, 0]': 0.019, '[0, 0, 0, 0]': 0.037, '[1, 0, 0, 1]': 0.026, '[0, 1, 0, 0]': 0.036, '[0, 0, 1, 0]': 0.033}\n"
        },
        {
          "output_type": "display_data",
          "data": {
            "text/plain": "<Figure size 640x480 with 1 Axes>",
            "image/png": "[encoded data removed]"
          },
          "metadata": {}
        }
      ],
      "execution_count": 27,
      "metadata": {
        "vscode": {
          "languageId": "qsharp"
        }
      }
    },
    {
      "cell_type": "code",
      "source": [],
      "outputs": [],
      "execution_count": null,
      "metadata": {
        "vscode": {
          "languageId": "qsharp"
        }
      }
    },
    {
      "cell_type": "markdown",
      "source": [
        "### For N =5 (rigetti.sim.qvm)"
      ],
      "metadata": {}
    },
    {
      "cell_type": "code",
      "source": [
        "N = 5\n",
        "iterations = 3\n",
        "\n",
        "program = qsharp.compile(f\"Grovers({N}, {iterations})\")\n",
        "job = target_quantinuum.submit(program, f\"Alternating bit pairs (Grover): N={N}, iter={iterations}\", shots=1000)\n"
      ],
      "outputs": [],
      "execution_count": 30,
      "metadata": {
        "vscode": {
          "languageId": "qsharp"
        }
      }
    },
    {
      "cell_type": "code",
      "source": [
        "# Once the job is complete, you can fetch its results and print them manually\n",
        "res = job.get_results()\n",
        "res\n"
      ],
      "outputs": [
        {
          "output_type": "stream",
          "name": "stdout",
          "text": "..................."
        },
        {
          "output_type": "execute_result",
          "execution_count": 31,
          "data": {
            "text/plain": "{'[1, 1, 0, 0, 1]': 0.23,\n '[0, 0, 0, 0, 0]': 0.034,\n '[0, 1, 0, 0, 0]': 0.014,\n '[0, 0, 1, 1, 1]': 0.017,\n '[0, 0, 1, 0, 0]': 0.045,\n '[0, 1, 0, 1, 0]': 0.021,\n '[0, 0, 1, 1, 0]': 0.221,\n '[1, 1, 0, 0, 0]': 0.02,\n '[1, 1, 1, 1, 1]': 0.027,\n '[0, 1, 0, 0, 1]': 0.019,\n '[0, 0, 0, 1, 0]': 0.026,\n '[1, 1, 0, 1, 0]': 0.01,\n '[0, 0, 0, 0, 1]': 0.013,\n '[1, 1, 0, 1, 1]': 0.031,\n '[0, 1, 1, 0, 1]': 0.013,\n '[0, 1, 1, 1, 0]': 0.021,\n '[1, 0, 0, 0, 1]': 0.031,\n '[1, 0, 0, 1, 0]': 0.012,\n '[1, 0, 1, 1, 0]': 0.013,\n '[1, 1, 1, 0, 1]': 0.013,\n '[1, 0, 1, 1, 1]': 0.015,\n '[1, 1, 1, 1, 0]': 0.017,\n '[0, 1, 1, 0, 0]': 0.023,\n '[0, 1, 0, 1, 1]': 0.011,\n '[1, 1, 1, 0, 0]': 0.017,\n '[1, 0, 0, 1, 1]': 0.017,\n '[0, 0, 0, 1, 1]': 0.009,\n '[1, 0, 1, 0, 1]': 0.014,\n '[1, 0, 0, 0, 0]': 0.007,\n '[0, 1, 1, 1, 1]': 0.016,\n '[1, 0, 1, 0, 0]': 0.008,\n '[0, 0, 1, 0, 1]': 0.015}"
          },
          "metadata": {}
        }
      ],
      "execution_count": 31,
      "metadata": {
        "vscode": {
          "languageId": "qsharp"
        }
      }
    },
    {
      "cell_type": "markdown",
      "source": [
        "The cells below allow you to fetch job results based on its ID and plot them, highlighting the results that correspond to the correct answers."
      ],
      "metadata": {}
    },
    {
      "cell_type": "code",
      "source": [
        "def plot_job_results(jobId, iter, sim):\n",
        "    # Fetch job results for the given jobId and plot them.\n",
        "    # \"iter\" and \"sim\" parameters are used to make the plot header more descriptive\n",
        "    job = workspace.get_job(jobId)\n",
        "    res = job.get_results()\n",
        "    print(res)\n",
        "\n",
        "    # Get keys and values, and convert keys from lists of bits to bitstrings\n",
        "    keys, outputFreq = zip(*sorted(res.items()))\n",
        "    keys = [key[1:-1].replace(\", \", \"\") for key in keys]\n",
        "    keyLen = len(keys[0])\n",
        "\n",
        "    # Generate correct bitstrings\n",
        "    firstBitString = \"\"\n",
        "    secondBitString = \"\"\n",
        "    for i in range(keyLen):\n",
        "        firstBitString += str((i // 2) % 2)\n",
        "        secondBitString += str(1 - (i // 2) % 2)\n",
        "\n",
        "    # Find the indices of correct answers in the array of keys\n",
        "    firstBitStringLoc = min(keys.index(firstBitString), keys.index(secondBitString))\n",
        "    secondBitStringLoc = max(keys.index(firstBitString), keys.index(secondBitString))\n",
        "\n",
        "    # Plot the frequencies of all keys, with red color marking correct answers and blue - incorrect ones\n",
        "    plt.bar(keys[0:firstBitStringLoc], outputFreq[0:firstBitStringLoc], color = \"blue\")\n",
        "    plt.bar(keys[firstBitStringLoc], outputFreq[firstBitStringLoc], color = \"red\")\n",
        "    plt.bar(keys[firstBitStringLoc+1:secondBitStringLoc], outputFreq[firstBitStringLoc+1:secondBitStringLoc], color = \"blue\")\n",
        "    plt.bar(keys[secondBitStringLoc], outputFreq[secondBitStringLoc], color = \"red\")\n",
        "    plt.bar(keys[secondBitStringLoc+1:], outputFreq[secondBitStringLoc+1:], color = \"blue\")\n",
        "    plt.xticks(rotation=90)\n",
        "    plt.title(\"{} results for N = {} iter = {}\".format(sim, keyLen, iter))\n",
        "    plt.show()\n"
      ],
      "outputs": [],
      "execution_count": 32,
      "metadata": {
        "vscode": {
          "languageId": "qsharp"
        }
      }
    },
    {
      "cell_type": "code",
      "source": [
        "plot_job_results(job.id, iterations, \"quantinuum.sim.h1-1e\")\n"
      ],
      "outputs": [
        {
          "output_type": "stream",
          "name": "stdout",
          "text": "{'[1, 1, 0, 0, 1]': 0.23, '[0, 0, 0, 0, 0]': 0.034, '[0, 1, 0, 0, 0]': 0.014, '[0, 0, 1, 1, 1]': 0.017, '[0, 0, 1, 0, 0]': 0.045, '[0, 1, 0, 1, 0]': 0.021, '[0, 0, 1, 1, 0]': 0.221, '[1, 1, 0, 0, 0]': 0.02, '[1, 1, 1, 1, 1]': 0.027, '[0, 1, 0, 0, 1]': 0.019, '[0, 0, 0, 1, 0]': 0.026, '[1, 1, 0, 1, 0]': 0.01, '[0, 0, 0, 0, 1]': 0.013, '[1, 1, 0, 1, 1]': 0.031, '[0, 1, 1, 0, 1]': 0.013, '[0, 1, 1, 1, 0]': 0.021, '[1, 0, 0, 0, 1]': 0.031, '[1, 0, 0, 1, 0]': 0.012, '[1, 0, 1, 1, 0]': 0.013, '[1, 1, 1, 0, 1]': 0.013, '[1, 0, 1, 1, 1]': 0.015, '[1, 1, 1, 1, 0]': 0.017, '[0, 1, 1, 0, 0]': 0.023, '[0, 1, 0, 1, 1]': 0.011, '[1, 1, 1, 0, 0]': 0.017, '[1, 0, 0, 1, 1]': 0.017, '[0, 0, 0, 1, 1]': 0.009, '[1, 0, 1, 0, 1]': 0.014, '[1, 0, 0, 0, 0]': 0.007, '[0, 1, 1, 1, 1]': 0.016, '[1, 0, 1, 0, 0]': 0.008, '[0, 0, 1, 0, 1]': 0.015}\n"
        },
        {
          "output_type": "display_data",
          "data": {
            "text/plain": "<Figure size 640x480 with 1 Axes>",
            "image/png": "[encoded data removed]"
          },
          "metadata": {}
        }
      ],
      "execution_count": 33,
      "metadata": {
        "vscode": {
          "languageId": "qsharp"
        }
      }
    },
    {
      "cell_type": "markdown",
      "source": [
        "## Analysis\n",
        "\n",
        "The noiseless Rigetti simulation results show outcomes with equal probabilities, indicating perfect amplitude amplification by Grover's algorithm. In contrast, the noisy Quantinuum simulation results display a clear signal for the correct result, but with significant noise evident in other outcomes. This noise reflects real-world quantum computing conditions, where errors can affect computation outcomes.\n",
        "\n",
        "As problem size increases, the noise impacts would likely become more pronounced, as larger quantum systems are generally more susceptible to error. In such cases, the signal-to-noise ratio may decrease, making it harder to distinguish the correct result from erroneous ones without error mitigation strategies.\n"
      ],
      "metadata": {
        "nteract": {
          "transient": {
            "deleting": false
          }
        }
      }
    }
  ],
  "metadata": {
    "kernel_info": {
      "name": "python3"
    },
    "kernelspec": {
      "name": "python3",
      "language": "python",
      "display_name": "Python 3 (ipykernel)"
    },
    "language_info": {
      "name": "python",
      "version": "3.9.18",
      "mimetype": "text/x-python",
      "codemirror_mode": {
        "name": "ipython",
        "version": 3
      },
      "pygments_lexer": "ipython3",
      "nbconvert_exporter": "python",
      "file_extension": ".py"
    },
    "nteract": {
      "version": "nteract-front-end@1.0.0"
    },
    "vscode": {
      "interpreter": {
        "hash": "1cde0123ad091c17bb3dac1610a1b00e4cc7ccaccc904fd2e4f3100417f26ae7"
      }
    }
  },
  "nbformat": 4,
  "nbformat_minor": 2
}