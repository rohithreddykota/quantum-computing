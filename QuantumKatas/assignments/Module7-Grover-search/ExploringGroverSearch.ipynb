{
  "cells": [
    {
      "cell_type": "markdown",
      "metadata": {},
      "source": [
        "# Programming Assignment 7. Exploring Grover's Search Algorithm\n",
        "\n",
        "In this assignment, you will explore the behavior of Grover's search algorithm on problem instances of increasing size. The problem we'll consider is finding bit strings that consisting of alternating bit pairs."
      ]
    },
    {
      "cell_type": "code",
      "execution_count": 1,
      "metadata": {
        "vscode": {
          "languageId": "qsharp"
        }
      },
      "outputs": [
        {
          "name": "stdout",
          "output_type": "stream",
          "text": [
            "Preparing Q# environment...\n"
          ]
        }
      ],
      "source": [
        "import matplotlib.pyplot as plt\n",
        "import qsharp"
      ]
    },
    {
      "cell_type": "markdown",
      "metadata": {},
      "source": [
        "## Task 1. Implement the phase oracle (2 points)\n",
        "First we need to define an oracle. \n",
        "For this example we will consider the function $f(x)$ which is equal to 1 when $x$ is a bit string of length $N$ in which odd pairs of adjacent bits are the same and even pairs differ. For any $N$ there will be two possible solutions, one starting with 0 and one starting with 1. So for this example the number of solutions is 2.\n",
        "\n",
        "Our $f$ will look like this:\n",
        "$$\n",
        "f(x) =  \\begin{cases} \n",
        "      1 & x = 00110011\\text{... or }11001100\\text{...}\\\\\n",
        "      0 & \\text{otherwise}\n",
        "   \\end{cases}\n",
        "$$"
      ]
    },
    {
      "cell_type": "code",
      "execution_count": null,
      "metadata": {
        "microsoft": {
          "language": "qsharp"
        },
        "vscode": {
          "languageId": "qsharp"
        }
      },
      "outputs": [],
      "source": [
        "%%qsharp\n",
        "operation AlternatingBitPairsOracle(qs : Qubit[]) : Unit {\n",
        "    // Task 1: implement the phase oracle for this algorithm\n",
        "    // ...\n",
        "}"
      ]
    },
    {
      "cell_type": "markdown",
      "metadata": {
        "nteract": {
          "transient": {
            "deleting": false
          }
        }
      },
      "source": [
        "You can use the following wrapper operation to print the effects your oracle has on the even superposition of basis states. \n",
        "\n",
        "**IMPORTANT**: depending on the version of `qsharp` package you're using, the output of `DumpMachine` will differ. Versions 1.0.34 and earlier reverse the order of qubits in the output, so if you run an oracle that correctly flips the phase of states $|110\\rangle$ and $|001\\rangle$ for a three-qubit state, DumpMachine will show them as $|011\\rangle$ and $|100\\rangle$. Versions 1.1 and later don't reverse the order of qubits, so the output will be as expected. You can check which version you're using from the notebook, by runinng `!pip list` in a separate cell and looking for `qsharp` package in the output."
      ]
    },
    {
      "cell_type": "code",
      "execution_count": null,
      "metadata": {
        "jupyter": {
          "outputs_hidden": false,
          "source_hidden": false
        },
        "microsoft": {
          "language": "qsharp"
        },
        "nteract": {
          "transient": {
            "deleting": false
          }
        },
        "vscode": {
          "languageId": "qsharp"
        }
      },
      "outputs": [],
      "source": [
        "%%qsharp\n",
        "open Microsoft.Quantum.Diagnostics;\n",
        "\n",
        "// The operation that applies the oracle to an even superposition of all inputs and prints the resulting state\n",
        "operation DemoWrapper(N : Int) : Unit {\n",
        "    use qs = Qubit[N];\n",
        "    ApplyToEach(H, qs);\n",
        "    AlternatingBitPairsOracle(qs);\n",
        "    DumpMachine();\n",
        "    ResetAll(qs);\n",
        "}\n"
      ]
    },
    {
      "cell_type": "code",
      "execution_count": null,
      "metadata": {
        "jupyter": {
          "outputs_hidden": false,
          "source_hidden": false
        },
        "nteract": {
          "transient": {
            "deleting": false
          }
        },
        "vscode": {
          "languageId": "qsharp"
        }
      },
      "outputs": [],
      "source": [
        "qsharp.eval(\"DemoWrapper(5)\")"
      ]
    },
    {
      "cell_type": "markdown",
      "metadata": {},
      "source": [
        "## Task 2. How far can you optimize your solution? (3 points)\n",
        "\n",
        "You can use the code below to estimate the resources required to run your solution. The scoring is done based on the case of $N = 5$.\n",
        "\n",
        "* If your solution gets a score above 1500, you'll get 0 points.\n",
        "* If your solution gets a score between 1000 and 1500, you'll get 1 point.\n",
        "* If your solution gets a score between 500 and 1000, you'll get 2 points.\n",
        "* If your solution gets a score under 500, you'll get 3 points."
      ]
    },
    {
      "cell_type": "code",
      "execution_count": null,
      "metadata": {
        "jupyter": {
          "outputs_hidden": false,
          "source_hidden": false
        },
        "microsoft": {
          "language": "qsharp"
        },
        "nteract": {
          "transient": {
            "deleting": false
          }
        },
        "vscode": {
          "languageId": "qsharp"
        }
      },
      "outputs": [],
      "source": [
        "%%qsharp\n",
        "open Microsoft.Quantum.Measurement;\n",
        "operation AlternatingBitPairsOracleWrapper(N : Int) : Result[] {\n",
        "    use qs = Qubit[N];\n",
        "    AlternatingBitPairsOracle(qs);\n",
        "    return MeasureEachZ(qs);\n",
        "}"
      ]
    },
    {
      "cell_type": "code",
      "execution_count": null,
      "metadata": {
        "jupyter": {
          "outputs_hidden": false,
          "source_hidden": false
        },
        "nteract": {
          "transient": {
            "deleting": false
          }
        },
        "vscode": {
          "languageId": "qsharp"
        }
      },
      "outputs": [],
      "source": [
        "# The function that extracts the relevant resource information from the resource estimation job results and produces your absolute score.\n",
        "def evaluate_results(res) : \n",
        "    width = res['physicalCounts']['breakdown']['algorithmicLogicalQubits']\n",
        "    depth = res['physicalCounts']['breakdown']['algorithmicLogicalDepth']\n",
        "    print(f\"Logical algorithmic qubits = {width}\")\n",
        "    print(f\"Algorithmic depth = {depth}\")\n",
        "    print(f\"Score = {width * depth}\")\n",
        "    return width * depth\n",
        "\n",
        "est = qsharp.estimate(\"AlternatingBitPairsOracleWrapper(5)\")\n",
        "evaluate_results(est)"
      ]
    },
    {
      "cell_type": "markdown",
      "metadata": {
        "nteract": {
          "transient": {
            "deleting": false
          }
        }
      },
      "source": [
        "### Task 3. Find the optimal number of iterations for $N = 3, 4, 5$ (2 points)\n",
        "\n",
        "The next cell implements Grover's search algorithm that takes two parameters: the number of bits in the strings we're looking for, and the number of iterations to run the algorithm for before measurement. \n",
        "\n",
        "Your task is to calculate the optimal number of iterations for $N = 3, 4, 5$ based on the size of the search space and the known number of problem solutions."
      ]
    },
    {
      "cell_type": "code",
      "execution_count": null,
      "metadata": {
        "jupyter": {
          "outputs_hidden": false,
          "source_hidden": false
        },
        "microsoft": {
          "language": "qsharp"
        },
        "nteract": {
          "transient": {
            "deleting": false
          }
        },
        "vscode": {
          "languageId": "qsharp"
        }
      },
      "outputs": [],
      "source": [
        "%%qsharp\n",
        "open Microsoft.Quantum.Measurement;\n",
        "operation Grovers(N : Int, iterations : Int) : Result[] {\n",
        "    use qs = Qubit[N];\n",
        "    ApplyToEach(H, qs);\n",
        "\n",
        "    for i in 1 .. iterations {\n",
        "        AlternatingBitPairsOracle(qs);\n",
        "        \n",
        "        within {\n",
        "            ApplyToEachA(H, qs);\n",
        "            ApplyToEachA(X, qs);\n",
        "        } apply {\n",
        "            Controlled Z(qs[...N - 2], qs[N - 1]);\n",
        "        }\n",
        "    }\n",
        "    let res = MeasureEachZ(qs);\n",
        "    ResetAll(qs);\n",
        "    return res;\n",
        "}"
      ]
    },
    {
      "cell_type": "markdown",
      "metadata": {},
      "source": [
        "You can run a single simulation to see whether the measurement produced a state that is a solution to our problem. "
      ]
    },
    {
      "cell_type": "code",
      "execution_count": null,
      "metadata": {
        "vscode": {
          "languageId": "qsharp"
        }
      },
      "outputs": [],
      "source": [
        "qsharp.eval(\"Grovers(4, 1)\")"
      ]
    },
    {
      "cell_type": "markdown",
      "metadata": {},
      "source": [
        "You can also run a series of simulations on a local simulator to see the percentage of shots for which a query returns a correct answer."
      ]
    },
    {
      "cell_type": "code",
      "execution_count": null,
      "metadata": {
        "vscode": {
          "languageId": "qsharp"
        }
      },
      "outputs": [],
      "source": [
        "N = 4\n",
        "iterations = 1\n",
        "\n",
        "target1 = [qsharp.Result.One if (i // 2) % 2 == 1 else qsharp.Result.Zero for i in range(N)]\n",
        "target2 = [qsharp.Result.One if (i // 2) % 2 == 1 else qsharp.Result.Zero for i in range(2, N+2)]\n",
        "shots = 100\n",
        "correctCount = 0\n",
        "results = qsharp.run(f\"Grovers({N}, {iterations})\", shots=shots)\n",
        "\n",
        "for res in results:\n",
        "    if res == target1 or res == target2:\n",
        "        correctCount += 1\n",
        "\n",
        "print(f\"N={N}, iter={iterations} - {100 * correctCount/shots}% of queries returned a correct answer\")\n"
      ]
    },
    {
      "cell_type": "markdown",
      "metadata": {},
      "source": [
        "## Tasks 4-5. Run Grover's search for $N = 3, 4, 5$ on noiseless Rigetti simulator (1 point) and noisy Quantinuum emulator (2 points)\n",
        "\n",
        "* Run the Grover's search algorithm for the oracle you've implemented on Rigetti or IonQ noiseless simulator (`rigetti.sim.qvm` or `ionq.simulator`) for $N = 3, 4, 5$.\n",
        "* Run the Grover's search algorithm for the oracle you've implemented on Quantinuum noisy emulator (`quantinuum.sim.h1-1e`) for $N = 3, 4, 5$.\n",
        "* Plot the results in a 2x3 or 3x2 table to compare the results on the same problem instance side-by-side."
      ]
    },
    {
      "cell_type": "code",
      "execution_count": null,
      "metadata": {
        "vscode": {
          "languageId": "qsharp"
        }
      },
      "outputs": [],
      "source": [
        "from azure.quantum import Workspace\n",
        "\n",
        "workspace = Workspace(\n",
        "      resource_id = \"/subscriptions/006c31bd-51e0-41db-b622-d1d3f8e7213a/resourceGroups/AzureQuantum/providers/Microsoft.Quantum/Workspaces/AQ-Demo\",\n",
        "      location = \"westus\")\n",
        "qsharp.init(target_profile=qsharp.TargetProfile.Base)"
      ]
    },
    {
      "cell_type": "markdown",
      "metadata": {
        "nteract": {
          "transient": {
            "deleting": false
          }
        }
      },
      "source": [
        "**IMPORTANT:** After you call `qsharp.init`, you'll need to recompile the cells that define the oracle and Grover's search before proceeding."
      ]
    },
    {
      "cell_type": "code",
      "execution_count": null,
      "metadata": {
        "vscode": {
          "languageId": "qsharp"
        }
      },
      "outputs": [],
      "source": [
        "# Select the target here\n",
        "target = workspace.get_targets(\"ionq.simulator\")"
      ]
    },
    {
      "cell_type": "code",
      "execution_count": null,
      "metadata": {
        "vscode": {
          "languageId": "qsharp"
        }
      },
      "outputs": [],
      "source": [
        "N = 4\n",
        "iterations = 1\n",
        "\n",
        "program = qsharp.compile(f\"Grovers({N}, {iterations})\")\n",
        "job = target.submit(program, f\"Alternating bit pairs (Grover): N={N}, iter={iterations}\", shots=1000)"
      ]
    },
    {
      "cell_type": "code",
      "execution_count": null,
      "metadata": {
        "vscode": {
          "languageId": "qsharp"
        }
      },
      "outputs": [],
      "source": [
        "# Once the job is complete, you can fetch its results and print them manually\n",
        "res = job.get_results()\n",
        "res"
      ]
    },
    {
      "cell_type": "markdown",
      "metadata": {
        "nteract": {
          "transient": {
            "deleting": false
          }
        }
      },
      "source": [
        "The cells below allow you to fetch job results based on its ID and plot them, highlighting the results that correspond to the correct answers."
      ]
    },
    {
      "cell_type": "code",
      "execution_count": null,
      "metadata": {
        "vscode": {
          "languageId": "qsharp"
        }
      },
      "outputs": [],
      "source": [
        "def plot_job_results(jobId, iter, sim):\n",
        "    # Fetch job results for the given jobId and plot them.\n",
        "    # \"iter\" and \"sim\" parameters are used to make the plot header more descriptive\n",
        "    job = workspace.get_job(jobId)\n",
        "    res = job.get_results()\n",
        "    print(res)\n",
        "\n",
        "    # Get keys and values, and convert keys from lists of bits to bitstrings\n",
        "    keys, outputFreq = zip(*sorted(res.items()))\n",
        "    keys = [key[1:-1].replace(\", \", \"\") for key in keys]\n",
        "    keyLen = len(keys[0])\n",
        "\n",
        "    # Generate correct bitstrings\n",
        "    firstBitString = \"\"\n",
        "    secondBitString = \"\"\n",
        "    for i in range(keyLen):\n",
        "        firstBitString += str((i // 2) % 2)\n",
        "        secondBitString += str(1 - (i // 2) % 2)\n",
        "\n",
        "    # Find the indices of correct answers in the array of keys\n",
        "    firstBitStringLoc = min(keys.index(firstBitString), keys.index(secondBitString))\n",
        "    secondBitStringLoc = max(keys.index(firstBitString), keys.index(secondBitString))\n",
        "\n",
        "    # Plot the frequencies of all keys, with red color marking correct answers and blue - incorrect ones\n",
        "    plt.bar(keys[0:firstBitStringLoc], outputFreq[0:firstBitStringLoc], color = \"blue\")\n",
        "    plt.bar(keys[firstBitStringLoc], outputFreq[firstBitStringLoc], color = \"red\")\n",
        "    plt.bar(keys[firstBitStringLoc+1:secondBitStringLoc], outputFreq[firstBitStringLoc+1:secondBitStringLoc], color = \"blue\")\n",
        "    plt.bar(keys[secondBitStringLoc], outputFreq[secondBitStringLoc], color = \"red\")\n",
        "    plt.bar(keys[secondBitStringLoc+1:], outputFreq[secondBitStringLoc+1:], color = \"blue\")\n",
        "    plt.xticks(rotation=90)\n",
        "    plt.title(\"{} results for N = {} iter = {}\".format(sim, keyLen, iter))\n",
        "    plt.show()"
      ]
    },
    {
      "cell_type": "code",
      "execution_count": null,
      "metadata": {
        "vscode": {
          "languageId": "qsharp"
        }
      },
      "outputs": [],
      "source": [
        "plot_job_results(\"<job ID>\", iterations, \"<target name>\")"
      ]
    }
  ],
  "metadata": {
    "kernel_info": {
      "name": "python3"
    },
    "kernelspec": {
      "display_name": "Python 3 (ipykernel)",
      "language": "python",
      "name": "python3"
    },
    "language_info": {
      "codemirror_mode": {
        "name": "ipython",
        "version": 3
      },
      "file_extension": ".py",
      "mimetype": "text/x-python",
      "name": "python",
      "nbconvert_exporter": "python",
      "pygments_lexer": "ipython3",
      "version": "3.9.18"
    },
    "nteract": {
      "version": "nteract-front-end@1.0.0"
    },
    "vscode": {
      "interpreter": {
        "hash": "1cde0123ad091c17bb3dac1610a1b00e4cc7ccaccc904fd2e4f3100417f26ae7"
      }
    }
  },
  "nbformat": 4,
  "nbformat_minor": 2
}
