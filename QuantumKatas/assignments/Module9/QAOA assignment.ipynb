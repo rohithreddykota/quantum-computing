{
  "cells": [
    {
      "cell_type": "markdown",
      "metadata": {},
      "source": [
        "# Quantum Approximate Optimization Algorithm\n",
        "\n",
        "In this assignment you will implement Quantum Approximate Optimization Algorithm (QAOA) to find bit strings that consist of alternating 0s and 1s."
      ]
    },
    {
      "cell_type": "code",
      "execution_count": null,
      "metadata": {},
      "outputs": [],
      "source": [
        "import qsharp\n",
        "import scipy.optimize as sco"
      ]
    },
    {
      "cell_type": "markdown",
      "metadata": {
        "nteract": {
          "transient": {
            "deleting": false
          }
        }
      },
      "source": [
        "### Task 1. Classical cost function (1 point)\n",
        "\n",
        "The cost function $C(x)$ defines the cost of each possible input, and should be minimized for the inputs we're looking for - in this case the bit strings with alternating 0s and 1s $0101...$ and $1010...$.\n",
        "This cost function can be defined as the number of pairs of identical bits in adjacent positions:\n",
        "\n",
        "$$C(x) = \\sum_{i=0}^{N - 2} x_i = x_{i+1}$$\n",
        "\n",
        "For bit strings with alternating bits, all terms of the sum will be 0, achieving the minimal possible value of this cost function.\n",
        "\n",
        "**Input**: an array of integers $x$, each of them 0 or 1.\n",
        "\n",
        "**Output**: the value of the cost function $C(x)$."
      ]
    },
    {
      "cell_type": "code",
      "execution_count": null,
      "metadata": {
        "jupyter": {
          "outputs_hidden": false,
          "source_hidden": false
        },
        "nteract": {
          "transient": {
            "deleting": false
          }
        }
      },
      "outputs": [],
      "source": [
        "# Implement the cost function C \n",
        "def cost(x):\n",
        "    \n",
        "    return ...\n",
        "\n",
        "# Evaluate the function on several inputs to check it's correct\n",
        "for x in [[1, 0, 1],\n",
        "          [0, 1, 0, 1],\n",
        "          [1, 1, 1, 1],\n",
        "          [0, 1, 1, 0]]:\n",
        "    print(f\"C({x}) = {cost(x)}\")"
      ]
    },
    {
      "cell_type": "markdown",
      "metadata": {},
      "source": [
        "### Task 2. QAOA Phase Change Unitary (4 points)\n",
        "\n",
        "**Inputs:**\n",
        "1. A qubit array of type `Qubit[]` - the input of the phase oracle.\n",
        "2. A `Double` - the value of the parameter $\\gamma$.\n",
        "\n",
        "**Goal:** \n",
        "Implement the first unitary used in QAOA - the phase change unitary. This unitary should implement the transformation\n",
        "\n",
        "$$U_C(\\gamma)|\\psi\\rangle = e^{-i\\gamma C(x)}|\\psi\\rangle$$\n",
        "\n",
        "> This cost function can be expressed as a sum of terms applied to adjacent pairs of qubits. This allows you to decompose the $U_C$ operator into a sequence of 1- and 2-qubit operations."
      ]
    },
    {
      "cell_type": "code",
      "execution_count": null,
      "metadata": {
        "microsoft": {
          "language": "qsharp"
        },
        "vscode": {
          "languageId": "qsharp"
        }
      },
      "outputs": [],
      "source": [
        "%%qsharp\n",
        "operation AlternatingBitStringQAOAOracle(qs : Qubit[], gamma : Double) : Unit is Adj + Ctl {\n",
        "    // ...\n",
        "}"
      ]
    },
    {
      "cell_type": "markdown",
      "metadata": {},
      "source": [
        "The code below can be used to test your implementation. The `AlternatingBitStringQAOAOracleDemo` operation applies the `AlternatingBitStringQAOAOracle` operation to $N$ qubits, each in the $|+\\rangle$ state. Here are a couple of useful examples for testing:\n",
        "\n",
        "* For $N = 2$, the cost function $C(x)$ can take values 0 or 1. $\\gamma = \\pi$ allows to separate these cases nicely: basis states with $C(x) = 1$ will get $-1$ relative phase.\n",
        "* For $N = 3$, the cost function $C(x)$ can take values 0, 1 or 2. This means that with $\\gamma = \\frac{\\pi}{2}$ a basis state will remain unchanged ($C=0$) or acquire a relative phase $e^{-i\\frac{\\pi}{2}} = -i$ ($C=1$) or $e^{-i\\pi} = -1$ ($C=2$).\n",
        "\n",
        "Use the output of `DumpMachine` to check whether each basis state gains the correct phases. Remember that `DumpMachine` output can have an additional global phase."
      ]
    },
    {
      "cell_type": "code",
      "execution_count": null,
      "metadata": {
        "microsoft": {
          "language": "qsharp"
        },
        "vscode": {
          "languageId": "qsharp"
        }
      },
      "outputs": [],
      "source": [
        "%%qsharp\n",
        "open Microsoft.Quantum.Diagnostics;\n",
        "open Microsoft.Quantum.Math;\n",
        "\n",
        "operation AlternatingBitStringQAOAOracleDemo(N : Int, gamma : Double) : Unit {\n",
        "    use qs = Qubit[N];\n",
        "    ApplyToEach(H, qs);\n",
        "    AlternatingBitStringQAOAOracle(qs, gamma);\n",
        "    DumpMachine();\n",
        "    ResetAll(qs);\n",
        "}\n",
        "\n",
        "AlternatingBitStringQAOAOracleDemo(2, PI())"
      ]
    },
    {
      "cell_type": "markdown",
      "metadata": {},
      "source": [
        "### Task 3. QAOA Mixer Unitary (3 points)\n",
        "\n",
        "**Inputs:**\n",
        "1. A qubit array of type `Qubit[]` - the input of the mixer unitary.\n",
        "2. A `Double` - the value of the parameter $\\beta$.\n",
        "\n",
        "**Goal:** \n",
        "Implement the second unitary used in QAOA - the mixer. This unitary should implement the transformation\n",
        "$${\\displaystyle \\prod_{j=0}^{N-1} e^{-i\\beta X_j}},$$\n",
        "where $X_j$ is the Pauli X operator acting on qubit j. By definition,\n",
        "$$e^{i\\theta X} = \\begin{bmatrix} \\cos(\\theta) & i\\sin(\\theta) \\\\ i\\sin(\\theta) & cos(\\theta) \\end{bmatrix}$$"
      ]
    },
    {
      "cell_type": "code",
      "execution_count": null,
      "metadata": {
        "microsoft": {
          "language": "qsharp"
        },
        "vscode": {
          "languageId": "qsharp"
        }
      },
      "outputs": [],
      "source": [
        "%%qsharp\n",
        "operation Mixer(qs : Qubit[], beta : Double) : Unit is Adj + Ctl {\n",
        "    // ...\n",
        "}"
      ]
    },
    {
      "cell_type": "markdown",
      "metadata": {},
      "source": [
        "The code below can be used to test your implementation. It will output the matrix representation of the `Mixer` operation called with 1 qubit and several different parameters $\\beta$. \n",
        "\n",
        "> Remember that, same as `DumpMachine`, output of `dump_operation` can have a global phase; if you need to get rid of it, modify the Q# code to add a wrapper that calls a controlled variant of `Mixer` (the wrapper should not have specializations), and use `dump_operation` to print the matrix of that controlled variant."
      ]
    },
    {
      "cell_type": "code",
      "execution_count": null,
      "metadata": {
        "microsoft": {
          "language": "qsharp"
        }
      },
      "outputs": [],
      "source": [
        "from qsharp.utils import dump_operation\n",
        "\n",
        "print(dump_operation(f\"Mixer(_, 0.0)\", 1))\n",
        "print(dump_operation(f\"Mixer(_, PI() / 4.0)\", 1))\n",
        "print(dump_operation(f\"Mixer(_, PI() / 2.0)\", 1))"
      ]
    },
    {
      "cell_type": "markdown",
      "metadata": {},
      "source": [
        "### Task 4. Implement depth 1 QAOA to find the optimal parameters $\\beta$ and $\\gamma$ (2 points)\n",
        "\n",
        "**Inputs:**\n",
        "\n",
        "1. $N$ - the length of the bit string in the optimization problem.\n",
        "2. `gamma` and `beta` - `Double` values $\\gamma$ and $\\beta$.\n",
        "\n",
        "**Output:**\n",
        "\n",
        "An array of type `Int` representing measurement results of the $N$ qubits used in QAOA: 0 and 1 values represent measurement results `Zero` and `One`, respectively.\n",
        "\n",
        "**Goal:** Implement operation `RunQAOA` to run depth 1 QAOA with the given parameters $\\beta$ and $\\gamma$. Then, use the Python code below to perform classical optimization to identify optimal $\\gamma$ and $\\beta$ values for the circuit, and use these parameters to get the solution to the problem for N = 2 .. 5."
      ]
    },
    {
      "cell_type": "code",
      "execution_count": null,
      "metadata": {
        "microsoft": {
          "language": "qsharp"
        },
        "vscode": {
          "languageId": "qsharp"
        }
      },
      "outputs": [],
      "source": [
        "%%qsharp\n",
        "open Microsoft.Quantum.Measurement;\n",
        "open Microsoft.Quantum.Arrays;\n",
        "\n",
        "operation RunQAOA(N : Int, gamma : Double, beta : Double) : Int[] {\n",
        "    // ...\n",
        "}"
      ]
    },
    {
      "cell_type": "markdown",
      "metadata": {
        "nteract": {
          "transient": {
            "deleting": false
          }
        }
      },
      "source": [
        "The following Python code uses classical optimization method from `scipy.optimize` to find the parameters $\\beta$ and $\\gamma$ that minimize the average cost of the configuration produced by the QAOA run for bit strings of different lengths. Note that if your solution is correct, you should get correct results (bit strings with alternating bits) with reasonably high probability."
      ]
    },
    {
      "cell_type": "code",
      "execution_count": null,
      "metadata": {},
      "outputs": [],
      "source": [
        "from functools import partial\n",
        "\n",
        "def multishot_cost(N, parameters):\n",
        "    shots = 30\n",
        "    total_cost = 0\n",
        "    for i in range(shots):\n",
        "        result = qsharp.eval(f\"RunQAOA({N}, {parameters[0]}, {parameters[1]})\")\n",
        "        total_cost += cost(result) \n",
        "    return total_cost / shots\n",
        "\n",
        "def answer_freq(N, parameters):\n",
        "    dict = {}\n",
        "    shots = 100\n",
        "    for i in range(shots):\n",
        "        result = qsharp.eval(f\"RunQAOA({N}, {parameters[0]}, {parameters[1]})\")\n",
        "        key = ''.join(map(str, result))\n",
        "        if key in dict:\n",
        "            dict[key] = dict[key] + 1\n",
        "        else:\n",
        "            dict[key] = 1\n",
        "    return {k : (v / shots) for k, v in dict.items()}\n",
        "\n",
        "for N in range(2, 6):\n",
        "    out = sco.minimize(partial(multishot_cost, N), [1, 1], method=\"COBYLA\", options={'maxiter':50})\n",
        "    print(f\"Optimal Values for N = {N}:\")\n",
        "    print(\"γ = {:.2f}\".format(out.x[0]))\n",
        "    print(\"β = {:.2f}\".format(out.x[1]))\n",
        "    ans = answer_freq(N, out.x)\n",
        "    print(sorted(ans.items(), key=lambda x:x[1], reverse=True))"
      ]
    }
  ],
  "metadata": {
    "kernel_info": {
      "name": "python3"
    },
    "kernelspec": {
      "display_name": "Python 3 (ipykernel)",
      "language": "python",
      "name": "python3"
    },
    "language_info": {
      "codemirror_mode": {
        "name": "ipython",
        "version": 3
      },
      "file_extension": ".py",
      "mimetype": "text/x-python",
      "name": "python",
      "nbconvert_exporter": "python",
      "pygments_lexer": "ipython3",
      "version": "3.11.7"
    },
    "nteract": {
      "version": "nteract-front-end@1.0.0"
    },
    "orig_nbformat": 4,
    "vscode": {
      "interpreter": {
        "hash": "1cde0123ad091c17bb3dac1610a1b00e4cc7ccaccc904fd2e4f3100417f26ae7"
      }
    }
  },
  "nbformat": 4,
  "nbformat_minor": 2
}
