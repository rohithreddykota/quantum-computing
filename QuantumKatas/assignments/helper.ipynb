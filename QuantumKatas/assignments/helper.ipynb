{
 "cells": [
  {
   "cell_type": "code",
   "execution_count": 2,
   "metadata": {},
   "outputs": [
    {
     "name": "stdout",
     "output_type": "stream",
     "text": [
      "   ┌───┐┌───┐┌───┐┌───┐┌───┐┌─────────┐\n",
      "q: ┤ X ├┤ Y ├┤ Z ├┤ H ├┤ S ├┤ Ry(π/4) ├\n",
      "   └───┘└───┘└───┘└───┘└───┘└─────────┘\n"
     ]
    },
    {
     "ename": "NameError",
     "evalue": "name 'Aer' is not defined",
     "output_type": "error",
     "traceback": [
      "\u001b[0;31m---------------------------------------------------------------------------\u001b[0m",
      "\u001b[0;31mNameError\u001b[0m                                 Traceback (most recent call last)",
      "Cell \u001b[0;32mIn[2], line 31\u001b[0m\n\u001b[1;32m     28\u001b[0m \u001b[38;5;28mprint\u001b[39m(qc)\n\u001b[1;32m     30\u001b[0m \u001b[38;5;66;03m# Convert the circuit to a unitary matrix (if needed)\u001b[39;00m\n\u001b[0;32m---> 31\u001b[0m backend \u001b[38;5;241m=\u001b[39m \u001b[43mAer\u001b[49m\u001b[38;5;241m.\u001b[39mget_backend(\u001b[38;5;124m'\u001b[39m\u001b[38;5;124munitary_simulator\u001b[39m\u001b[38;5;124m'\u001b[39m)\n\u001b[1;32m     32\u001b[0m unitary \u001b[38;5;241m=\u001b[39m execute(qc, backend)\u001b[38;5;241m.\u001b[39mresult()\u001b[38;5;241m.\u001b[39mget_unitary()\n\u001b[1;32m     34\u001b[0m \u001b[38;5;66;03m# Print out the unitary matrix\u001b[39;00m\n",
      "\u001b[0;31mNameError\u001b[0m: name 'Aer' is not defined"
     ]
    }
   ],
   "source": [
    "import numpy as np\n",
    "from qiskit import QuantumCircuit\n",
    "from qiskit.quantum_info import Operator\n",
    "\n",
    "# Create a single qubit quantum circuit\n",
    "qc = QuantumCircuit(1)\n",
    "\n",
    "# Apply the X gate (Pauli-X)\n",
    "qc.x(0)\n",
    "\n",
    "# Apply the Y gate (Pauli-Y)\n",
    "qc.y(0)\n",
    "\n",
    "# Apply the Z gate (Pauli-Z)\n",
    "qc.z(0)\n",
    "\n",
    "# Apply the H gate (Hadamard)\n",
    "qc.h(0)\n",
    "\n",
    "# Apply the S gate (Phase)\n",
    "qc.s(0)\n",
    "\n",
    "# Apply the Ry gate (Rotation around Y-axis)\n",
    "theta = np.pi / 4  # You can change the value of theta as needed\n",
    "qc.ry(theta, 0)\n",
    "\n",
    "# Draw the circuit\n",
    "print(qc)\n",
    "\n",
    "# Convert the circuit to a unitary matrix (if needed)\n",
    "backend = Aer.get_backend('unitary_simulator')\n",
    "unitary = execute(qc, backend).result().get_unitary()\n",
    "\n",
    "# Print out the unitary matrix\n",
    "print(\"Unitary matrix of the circuit:\")\n",
    "print(unitary)\n"
   ]
  },
  {
   "cell_type": "code",
   "execution_count": 4,
   "metadata": {},
   "outputs": [],
   "source": [
    "# get matrix of the gates\n",
    "x_gate = Operator.from_label('X')"
   ]
  },
  {
   "cell_type": "code",
   "execution_count": 6,
   "metadata": {},
   "outputs": [],
   "source": [
    "# convert to matrix\n",
    "x_gate_matrix = x_gate.data"
   ]
  },
  {
   "cell_type": "code",
   "execution_count": 46,
   "metadata": {},
   "outputs": [
    {
     "name": "stdout",
     "output_type": "stream",
     "text": [
      "X gate:\n",
      " [[0.+0.j 1.+0.j]\n",
      " [1.+0.j 0.+0.j]]\n",
      "\n",
      "Y gate:\n",
      " [[ 0.+0.j -0.-1.j]\n",
      " [ 0.+1.j  0.+0.j]]\n",
      "\n",
      "Z gate:\n",
      " [[ 1.+0.j  0.+0.j]\n",
      " [ 0.+0.j -1.+0.j]]\n",
      "\n",
      "Hadamard gate (H):\n",
      " [[ 0.70710678+0.j  0.70710678+0.j]\n",
      " [ 0.70710678+0.j -0.70710678+0.j]]\n",
      "\n",
      "S (phase) gate:\n",
      " [[1.+0.j 0.+0.j]\n",
      " [0.+0.j 0.+1.j]]\n",
      "\n",
      "Ry gate for theta = 0.7853981633974483 :\n",
      " [[ 0.92387953+0.j -0.38268343+0.j]\n",
      " [ 0.38268343+0.j  0.92387953+0.j]]\n",
      "\n",
      "Rx gate for theta = 0.7853981633974483 :\n",
      " [[0.92387953+0.j         0.        -0.38268343j]\n",
      " [0.        -0.38268343j 0.92387953+0.j        ]]\n"
     ]
    }
   ],
   "source": [
    "import numpy as np\n",
    "\n",
    "# Define the angle theta for the Ry gate\n",
    "theta = np.pi / 4  # Change this as needed for different rotations\n",
    "\n",
    "# Pauli-X gate\n",
    "X = np.array([[0, 1],\n",
    "              [1, 0]], dtype=complex)\n",
    "\n",
    "# Pauli-Y gate\n",
    "Y = np.array([[0, -1j],\n",
    "              [1j, 0]], dtype=complex)\n",
    "\n",
    "# Pauli-Z gate\n",
    "Z = np.array([[1, 0],\n",
    "              [0, -1]], dtype=complex)\n",
    "\n",
    "# Hadamard gate\n",
    "H = np.array([[1, 1],\n",
    "              [1, -1]], dtype=complex) / np.sqrt(2)\n",
    "\n",
    "# S (phase) gate\n",
    "S = np.array([[1, 0],\n",
    "              [0, 1j]], dtype=complex)\n",
    "\n",
    "# Ry (rotation around Y-axis) gate\n",
    "Ry = np.array([[np.cos(theta / 2), -np.sin(theta / 2)],\n",
    "               [np.sin(theta / 2), np.cos(theta / 2)]], dtype=complex)\n",
    "\n",
    "\n",
    "# Rx gate matrix\n",
    "Rx = np.array([\n",
    "    [np.cos(theta/2), -1j * np.sin(theta/2)],\n",
    "    [-1j * np.sin(theta/2), np.cos(theta/2)]\n",
    "], dtype=complex)\n",
    "\n",
    "\n",
    "# Print the arrays\n",
    "print(\"X gate:\\n\", X)\n",
    "print(\"\\nY gate:\\n\", Y)\n",
    "print(\"\\nZ gate:\\n\", Z)\n",
    "print(\"\\nHadamard gate (H):\\n\", H)\n",
    "print(\"\\nS (phase) gate:\\n\", S)\n",
    "print(\"\\nRy gate for theta =\", theta, \":\\n\", Ry)\n",
    "print(\"\\nRx gate for theta =\", theta, \":\\n\", Rx)\n"
   ]
  },
  {
   "cell_type": "code",
   "execution_count": 43,
   "metadata": {},
   "outputs": [
    {
     "data": {
      "text/plain": [
       "array([[ 0.92387953+0.j,  0.38268343+0.j],\n",
       "       [ 0.38268343+0.j, -0.92387953+0.j]])"
      ]
     },
     "execution_count": 43,
     "metadata": {},
     "output_type": "execute_result"
    }
   ],
   "source": [
    "S @ Rx @ S"
   ]
  },
  {
   "cell_type": "code",
   "execution_count": 44,
   "metadata": {},
   "outputs": [
    {
     "data": {
      "text/plain": [
       "array([[0.92387953+0.j        , 0.38268343+0.j        ],\n",
       "       [0.        -0.38268343j, 0.        +0.92387953j]])"
      ]
     },
     "execution_count": 44,
     "metadata": {},
     "output_type": "execute_result"
    }
   ],
   "source": [
    "Rx@ S"
   ]
  },
  {
   "cell_type": "code",
   "execution_count": 45,
   "metadata": {},
   "outputs": [
    {
     "data": {
      "text/plain": [
       "array([[0.92387953+0.j        , 0.        -0.38268343j],\n",
       "       [0.        -0.38268343j, 0.92387953+0.j        ]])"
      ]
     },
     "execution_count": 45,
     "metadata": {},
     "output_type": "execute_result"
    }
   ],
   "source": [
    "Rx"
   ]
  },
  {
   "cell_type": "code",
   "execution_count": 38,
   "metadata": {},
   "outputs": [
    {
     "data": {
      "text/plain": [
       "array([[0.70710678+2.29934717e-17j, 0.        +7.07106781e-01j],\n",
       "       [0.        +7.07106781e-01j, 0.70710678+2.29934717e-17j]])"
      ]
     },
     "execution_count": 38,
     "metadata": {},
     "output_type": "execute_result"
    }
   ],
   "source": [
    "S @ Ry @ S @ H @ X @ H"
   ]
  },
  {
   "cell_type": "code",
   "execution_count": 30,
   "metadata": {},
   "outputs": [
    {
     "data": {
      "text/plain": [
       "array([[ 0.70710678+0.j        ,  0.        -0.70710678j],\n",
       "       [ 0.        +0.70710678j, -0.70710678+0.j        ]])"
      ]
     },
     "execution_count": 30,
     "metadata": {},
     "output_type": "execute_result"
    }
   ],
   "source": [
    "S @ Ry @ S"
   ]
  },
  {
   "cell_type": "code",
   "execution_count": 31,
   "metadata": {},
   "outputs": [
    {
     "data": {
      "text/plain": [
       "array([[0.70710678+2.29934717e-17j, 0.        +7.07106781e-01j],\n",
       "       [0.        +7.07106781e-01j, 0.70710678+2.29934717e-17j]])"
      ]
     },
     "execution_count": 31,
     "metadata": {},
     "output_type": "execute_result"
    }
   ],
   "source": [
    "S @ Ry @ S @ H @ X@ H"
   ]
  },
  {
   "cell_type": "code",
   "execution_count": 32,
   "metadata": {},
   "outputs": [
    {
     "data": {
      "text/plain": [
       "array([[ 0.70710678+0.j, -0.70710678+0.j],\n",
       "       [ 0.70710678+0.j,  0.70710678+0.j]])"
      ]
     },
     "execution_count": 32,
     "metadata": {},
     "output_type": "execute_result"
    }
   ],
   "source": [
    "Ry"
   ]
  },
  {
   "cell_type": "code",
   "execution_count": 48,
   "metadata": {},
   "outputs": [
    {
     "data": {
      "text/plain": [
       "array([[0.92387953+0.j        , 0.        +0.38268343j],\n",
       "       [0.        +0.38268343j, 0.92387953+0.j        ]])"
      ]
     },
     "execution_count": 48,
     "metadata": {},
     "output_type": "execute_result"
    }
   ],
   "source": [
    "Z@Rx@ Z"
   ]
  },
  {
   "cell_type": "code",
   "execution_count": 49,
   "metadata": {},
   "outputs": [
    {
     "data": {
      "text/plain": [
       "array([[0.92387953+0.j        , 0.        -0.38268343j],\n",
       "       [0.        -0.38268343j, 0.92387953+0.j        ]])"
      ]
     },
     "execution_count": 49,
     "metadata": {},
     "output_type": "execute_result"
    }
   ],
   "source": [
    "Rx"
   ]
  },
  {
   "cell_type": "code",
   "execution_count": 50,
   "metadata": {},
   "outputs": [
    {
     "data": {
      "text/plain": [
       "array([[ 0.92387953+0.j        ,  0.        +0.38268343j],\n",
       "       [ 0.        -0.38268343j, -0.92387953+0.j        ]])"
      ]
     },
     "execution_count": 50,
     "metadata": {},
     "output_type": "execute_result"
    }
   ],
   "source": [
    "Rx@Z"
   ]
  },
  {
   "cell_type": "code",
   "execution_count": 51,
   "metadata": {},
   "outputs": [
    {
     "data": {
      "text/plain": [
       "array([[0.92387953+0.j        , 0.        -0.38268343j],\n",
       "       [0.        -0.38268343j, 0.92387953+0.j        ]])"
      ]
     },
     "execution_count": 51,
     "metadata": {},
     "output_type": "execute_result"
    }
   ],
   "source": [
    "Rx"
   ]
  },
  {
   "cell_type": "code",
   "execution_count": 52,
   "metadata": {},
   "outputs": [
    {
     "data": {
      "text/plain": [
       "array([[0.        -0.38268343j, 0.92387953+0.j        ],\n",
       "       [0.92387953+0.j        , 0.        -0.38268343j]])"
      ]
     },
     "execution_count": 52,
     "metadata": {},
     "output_type": "execute_result"
    }
   ],
   "source": [
    "Rx@X"
   ]
  },
  {
   "cell_type": "code",
   "execution_count": 53,
   "metadata": {},
   "outputs": [
    {
     "data": {
      "text/plain": [
       "array([[ 0.38268343+0.j        ,  0.        -0.92387953j],\n",
       "       [ 0.        +0.92387953j, -0.38268343+0.j        ]])"
      ]
     },
     "execution_count": 53,
     "metadata": {},
     "output_type": "execute_result"
    }
   ],
   "source": [
    "Rx@Y"
   ]
  },
  {
   "cell_type": "code",
   "execution_count": 54,
   "metadata": {},
   "outputs": [
    {
     "data": {
      "text/plain": [
       "array([[0.92387953+0.j        , 0.        -0.38268343j],\n",
       "       [0.        -0.38268343j, 0.92387953+0.j        ]])"
      ]
     },
     "execution_count": 54,
     "metadata": {},
     "output_type": "execute_result"
    }
   ],
   "source": [
    "Rx"
   ]
  },
  {
   "cell_type": "code",
   "execution_count": 55,
   "metadata": {},
   "outputs": [
    {
     "data": {
      "text/plain": [
       "array([[0.        -0.38268343j, 0.92387953+0.j        ],\n",
       "       [0.92387953+0.j        , 0.        -0.38268343j]])"
      ]
     },
     "execution_count": 55,
     "metadata": {},
     "output_type": "execute_result"
    }
   ],
   "source": [
    "Rx@X"
   ]
  },
  {
   "cell_type": "code",
   "execution_count": 56,
   "metadata": {},
   "outputs": [
    {
     "data": {
      "text/plain": [
       "array([[0.+0.j, 0.+1.j],\n",
       "       [0.+1.j, 0.+0.j]])"
      ]
     },
     "execution_count": 56,
     "metadata": {},
     "output_type": "execute_result"
    }
   ],
   "source": [
    "Y@ Z"
   ]
  },
  {
   "cell_type": "code",
   "execution_count": 58,
   "metadata": {},
   "outputs": [
    {
     "data": {
      "text/plain": [
       "array([[0.        -0.70710678j, 0.70710678+0.j        ],\n",
       "       [0.        +0.70710678j, 0.70710678+0.j        ]])"
      ]
     },
     "execution_count": 58,
     "metadata": {},
     "output_type": "execute_result"
    }
   ],
   "source": [
    "H@S@Z@X"
   ]
  },
  {
   "cell_type": "code",
   "execution_count": null,
   "metadata": {},
   "outputs": [],
   "source": []
  }
 ],
 "metadata": {
  "kernelspec": {
   "display_name": "base",
   "language": "python",
   "name": "python3"
  },
  "language_info": {
   "codemirror_mode": {
    "name": "ipython",
    "version": 3
   },
   "file_extension": ".py",
   "mimetype": "text/x-python",
   "name": "python",
   "nbconvert_exporter": "python",
   "pygments_lexer": "ipython3",
   "version": "3.11.4"
  }
 },
 "nbformat": 4,
 "nbformat_minor": 2
}
