{
 "cells": [
  {
   "cell_type": "markdown",
   "metadata": {
    "nteract": {
     "transient": {
      "deleting": false
     }
    }
   },
   "source": [
    "# Programming Assignment 6.2. Optimizing a reversible circuit\n",
    "\n",
    "In this task, you'll optimize the given circuit - modify it so that its effect doesn't change (it still implements the same computation) and it requires as few resources to run as possible. See `evaluate_results` function for details on how your absolute score for the task is calculated."
   ]
  },
  {
   "cell_type": "code",
   "execution_count": null,
   "metadata": {
    "jupyter": {
     "outputs_hidden": false,
     "source_hidden": false
    },
    "nteract": {
     "transient": {
      "deleting": false
     }
    }
   },
   "outputs": [],
   "source": [
    "import qsharp"
   ]
  },
  {
   "cell_type": "markdown",
   "metadata": {
    "nteract": {
     "transient": {
      "deleting": false
     }
    }
   },
   "source": [
    "**The complete code for the task should be in this cell.**   \n",
    "This cell can include additional open statements and helper operations and functions if your solution needs them. Your solution should not use measurements."
   ]
  },
  {
   "cell_type": "code",
   "execution_count": null,
   "metadata": {
    "jupyter": {
     "outputs_hidden": false,
     "source_hidden": false
    },
    "microsoft": {
     "language": "qsharp"
    },
    "nteract": {
     "transient": {
      "deleting": false
     }
    },
    "vscode": {
     "languageId": "qsharp"
    }
   },
   "outputs": [],
   "source": [
    "%%qsharp\n",
    "open Microsoft.Quantum.Canon;\n",
    "\n",
    "// This circuit implements a marking oracle that marks the letters that comprise the word COMPUTER.\n",
    "// The oracle uses little endian to convert integers that represent letters positions in the aphabet to bit strings.\n",
    "// The input will contain exactly 5 qubits.\n",
    "operation QuantumCircuit(input : Qubit[], target : Qubit) : Unit is Adj {\n",
    "    ApplyControlledOnInt( 3, X, input, target);  // C\n",
    "    ApplyControlledOnInt(15, X, input, target);  // O\n",
    "    ApplyControlledOnInt(13, X, input, target);  // M\n",
    "    ApplyControlledOnInt(16, X, input, target);  // P\n",
    "    ApplyControlledOnInt(21, X, input, target);  // U\n",
    "    ApplyControlledOnInt(20, X, input, target);  // T\n",
    "    ApplyControlledOnInt( 5, X, input, target);  // E\n",
    "    ApplyControlledOnInt(18, X, input, target);  // R\n",
    "}"
   ]
  },
  {
   "cell_type": "code",
   "execution_count": null,
   "metadata": {
    "jupyter": {
     "outputs_hidden": false,
     "source_hidden": false
    },
    "microsoft": {
     "language": "qsharp"
    },
    "nteract": {
     "transient": {
      "deleting": false
     }
    },
    "vscode": {
     "languageId": "qsharp"
    }
   },
   "outputs": [],
   "source": [
    "%%qsharp\n",
    "open Microsoft.Quantum.Arrays;\n",
    "open Microsoft.Quantum.Convert;\n",
    "open Microsoft.Quantum.Diagnostics;\n",
    "\n",
    "// The operation that runs the oracle on every bit string and compares the results with those of a classical function\n",
    "// (also checks that there are no measurements)\n",
    "operation AssertOracleImplementsFunction (N : Int, oracle : ((Qubit[], Qubit) => Unit), f : (Bool[] -> Bool)) : Unit {\n",
    "    let size = 1 <<< N;\n",
    "    use (qs, target) = (Qubit[N], Qubit());\n",
    "    for k in 0 .. size - 1 {\n",
    "        // Prepare k-th bit vector\n",
    "        let binary = IntAsBoolArray(k, N);\n",
    "            \n",
    "        //Message($\"{k}/{N} = {binary}\");\n",
    "        // binary is little-endian notation, so the second vector tried has qubit 0 in state 1 and the rest in state 0\n",
    "        ApplyPauliFromBitString(PauliX, true, binary, qs);\n",
    "            \n",
    "        // Apply the operation\n",
    "        oracle(qs, target);\n",
    "            \n",
    "        // Check that the result is what we'd expect to measure\n",
    "        let val = f(binary);\n",
    "        if val {\n",
    "            X(target);\n",
    "        }\n",
    "        if not CheckAllZero([target]) {\n",
    "            fail $\"Target in incorrect state for input {k} = {binary}\";\n",
    "        }\n",
    "\n",
    "        // Check that the query qubits are still in the same state\n",
    "        ApplyPauliFromBitString(PauliX, true, binary, qs);\n",
    "        if not CheckAllZero(qs) {\n",
    "            fail $\"The state of control qubits changed for input {k} = {binary}\";\n",
    "        }\n",
    "    }\n",
    "}\n",
    "\n",
    "// Check that the bitstring is one of the letters COMPUTER\n",
    "function QuantumF(args : Bool[]) : Bool {\n",
    "    let ascii = BoolArrayAsInt(args);\n",
    "    return Any(letter -> letter == ascii, [3, 5, 13, 15, 16, 18, 20, 21]);\n",
    "}\n",
    "\n",
    "// Wrapper operation that allows to run the logical test for the task\n",
    "operation TestWrapper() : Unit {\n",
    "    let N = 5;\n",
    "    AssertOracleImplementsFunction(N, QuantumCircuit, QuantumF);\n",
    "    Message(\"Test passed!\");\n",
    "}\n",
    "\n",
    "// Wrapper operation that allows to run resource estimation for the task.\n",
    "// This operation only allocates the qubits and applies the oracle once, not using any additional gates or measurements.\n",
    "operation ResourceEstimationWrapper() : Unit {\n",
    "    let N = 5;\n",
    "    use (input, target) = (Qubit[N], Qubit());\n",
    "    QuantumCircuit(input, target);\n",
    "}\n"
   ]
  },
  {
   "cell_type": "markdown",
   "metadata": {
    "nteract": {
     "transient": {
      "deleting": false
     }
    }
   },
   "source": [
    "Use the following cell to test your change to make sure it still performs the right computation. (You need to recompile the cell above every time you change your solution to test it.)\n",
    "* If your solution is correct, the cell will report \"Test passed!\".\n",
    "* Otherwise, it will throw an exception telling you on which basis state your solution is incorrect and in what way (either the function value is calculated incorrectly or the state of the control qubits changed)."
   ]
  },
  {
   "cell_type": "code",
   "execution_count": null,
   "metadata": {
    "jupyter": {
     "outputs_hidden": false,
     "source_hidden": false
    },
    "nteract": {
     "transient": {
      "deleting": false
     }
    }
   },
   "outputs": [],
   "source": [
    "qsharp.eval(\"TestWrapper()\")\n"
   ]
  },
  {
   "cell_type": "markdown",
   "metadata": {
    "nteract": {
     "transient": {
      "deleting": false
     }
    }
   },
   "source": [
    "Use the following cells to evaluate the resources required to run your solution.\n",
    "* The score for the original code is 6048. \n",
    "* If your solution gets a score between 4500 and 6000, you'll get 1 point.\n",
    "* If your solution gets a score between 2000 and 4500, you'll get 2 points.\n",
    "* If your solution gets a score under 2000, you'll get 3 points."
   ]
  },
  {
   "cell_type": "code",
   "execution_count": null,
   "metadata": {
    "jupyter": {
     "outputs_hidden": false,
     "source_hidden": false
    },
    "nteract": {
     "transient": {
      "deleting": false
     }
    }
   },
   "outputs": [],
   "source": [
    "result = qsharp.estimate(\"ResourceEstimationWrapper()\")\n",
    "# result"
   ]
  },
  {
   "cell_type": "code",
   "execution_count": null,
   "metadata": {
    "jupyter": {
     "outputs_hidden": false,
     "source_hidden": false
    },
    "nteract": {
     "transient": {
      "deleting": false
     }
    }
   },
   "outputs": [],
   "source": [
    "# The function that extracts the relevant resource information from the resource estimation job results and produces your absolute score.\n",
    "def evaluate_results(res) : \n",
    "    width = res['physicalCounts']['breakdown']['algorithmicLogicalQubits']\n",
    "    depth = res['physicalCounts']['breakdown']['algorithmicLogicalDepth']\n",
    "    print(f\"Logical algorithmic qubits = {width}\")\n",
    "    print(f\"Algorithmic depth = {depth}\")\n",
    "    print(f\"Score = {width * depth}\")\n",
    "    return width * depth\n"
   ]
  },
  {
   "cell_type": "code",
   "execution_count": null,
   "metadata": {
    "jupyter": {
     "outputs_hidden": false,
     "source_hidden": false
    },
    "nteract": {
     "transient": {
      "deleting": false
     }
    }
   },
   "outputs": [],
   "source": [
    "evaluate_results(result)"
   ]
  }
 ],
 "metadata": {
  "kernel_info": {
   "name": "python3"
  },
  "kernelspec": {
   "display_name": "Python 3",
   "language": "python",
   "name": "python3"
  },
  "language_info": {
   "codemirror_mode": {
    "name": "ipython",
    "version": 3
   },
   "file_extension": ".py",
   "mimetype": "text/x-python",
   "name": "python",
   "nbconvert_exporter": "python",
   "pygments_lexer": "ipython3",
   "version": "3.11.7"
  },
  "nteract": {
   "version": "nteract-front-end@1.0.0"
  }
 },
 "nbformat": 4,
 "nbformat_minor": 1
}
