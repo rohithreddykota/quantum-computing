{
 "cells": [
  {
   "cell_type": "markdown",
   "metadata": {
    "nteract": {
     "transient": {
      "deleting": false
     }
    }
   },
   "source": [
    "# Programming Assignment 6.2. Optimizing a reversible circuit\n",
    "\n",
    "In this task, you'll optimize the given circuit - modify it so that its effect doesn't change (it still implements the same computation) and it requires as few resources to run as possible. See `evaluate_results` function for details on how your absolute score for the task is calculated."
   ]
  },
  {
   "cell_type": "code",
   "execution_count": null,
   "metadata": {
    "jupyter": {
     "outputs_hidden": false,
     "source_hidden": false
    },
    "nteract": {
     "transient": {
      "deleting": false
     }
    }
   },
   "outputs": [],
   "source": [
    "import qsharp"
   ]
  },
  {
   "cell_type": "markdown",
   "metadata": {
    "nteract": {
     "transient": {
      "deleting": false
     }
    }
   },
   "source": [
    "**The complete code for the task should be in this cell.**   \n",
    "This cell can include additional open statements and helper operations and functions if your solution needs them. Your solution should not use measurements."
   ]
  },
  {
   "cell_type": "code",
   "execution_count": null,
   "metadata": {
    "vscode": {
     "languageId": "qsharp"
    }
   },
   "outputs": [],
   "source": [
    "// C -  3 - 00011\n",
    "// O - 15 - 01111\n",
    "// M - 13 - 01101 \n",
    "// P - 16 - 10000 \n",
    "// U - 21 - 10101\n",
    "// T - 20 - 10100\n",
    "// E -  5 - 00101\n",
    "// R - 18 - 10010\n",
    "\n",
    "// Convert to \n",
    "\n",
    "// '00011',\n",
    "// '00101',\n",
    "// '011x1',\n",
    "// '100x0',\n",
    "// '1010x'\n",
    "\n",
    "%%qsharp\n",
    "open Microsoft.Quantum.Canon;\n",
    "\n",
    "// This circuit implements a marking oracle that marks the letters that comprise the word COMPUTER.\n",
    "// The oracle uses little endian to convert integers that represent letters positions in the aphabet to bit strings.\n",
    "// The input will contain exactly 5 qubits.\n",
    "operation QuantumCircuit(x : Qubit[], target : Qubit) : Unit is Adj {\n",
    "    ApplyControlledOnBitString( [false, false, false, true, true], X, [x[0], x[1], x[2], x[3], [4]], target);\n",
    "    ApplyControlledOnBitString( [false, false, true, false, true], X, [x[0], x[1], x[2], x[3], [4]], target);\n",
    "    ApplyControlledOnBitString( [false, true, true, true], X, [x[0], x[1], x[2], [4]], target);\n",
    "    ApplyControlledOnBitString( [true, false, false, false], X, [x[0], x[1], x[2], [4]], target);\n",
    "    ApplyControlledOnBitString( [true, false, true, false], X, [x[0], x[1], x[2], x[3]], target);\n",
    "}"
   ]
  },
  {
   "cell_type": "code",
   "execution_count": null,
   "metadata": {
    "vscode": {
     "languageId": "qsharp"
    }
   },
   "outputs": [],
   "source": [
    "open Microsoft.Quantum.Canon;\n",
    "\n",
    "// This circuit implements a marking oracle that marks the letters that comprise the word COMPUTER.\n",
    "// The oracle uses little endian to convert integers that represent letters positions in the aphabet to bit strings.\n",
    "// The input will contain exactly 5 qubits.\n",
    "operation QuantumCircuit(input : Qubit[], target : Qubit) : Unit is Adj {\n",
    "    // If A is 0, then E will be 1\n",
    "within{    X(input[0]); // Invert the control qubit to trigger on 0\n",
    "    CNOT(input[0], input[4]);\n",
    "    X(input[0]); // Revert the control qubit back to its original state\n",
    "\n",
    "    // If B is 1 and C is 1, then E will be 1\n",
    "    CCNOT(input[1], input[2], input[4]);\n",
    "\n",
    "    // If C is 1 and D is 0, then E will be 1\n",
    "    X(input[3]); // Invert the control qubit D to trigger on 0\n",
    "    CCNOT(input[2], input[3], input[4]);\n",
    "    X(input[3]); // Revert the control qubit D back to its original state\n",
    "\n",
    "    // If A is 1, then E will be 1\n",
    "    CNOT(input[0], input[4]);\n",
    "\n",
    "    // If A is 1 and B is 0, then E will be 1\n",
    "    X(input[1]); // Invert the control qubit B to trigger on 0\n",
    "    CCNOT(input[0], input[1], input[4]);\n",
    "    X(input[1]); // Revert the control qubit B back to its original state\n",
    "\n",
    "    // If A is 1 and B is 1, then E will be 1\n",
    "    CCNOT(input[0], input[1], input[4]);\n",
    "\n",
    "    // If A is 0 and E is 0, then E will be 1\n",
    "    X(input[0]); // Invert the control qubit A to trigger on 0\n",
    "    CNOT(input[0], input[4]);\n",
    "    X(input[0]); // Revert the control qubit A back to its original state\n",
    "\n",
    "    // If A is 1 and D is 0, then E will be 1\n",
    "    X(input[3]); // Invert the control qubit D to trigger on 0\n",
    "    CCNOT(input[0], input[3], input[4]);\n",
    "    X(input[3]); // Revert the control qubit D back to its original state\n",
    "} apply {\n",
    "    for q in input {\n",
    "      X(q, target);\n",
    "    }\n",
    "        \n",
    "    }\n",
    "}"
   ]
  },
  {
   "cell_type": "code",
   "execution_count": null,
   "metadata": {
    "jupyter": {
     "outputs_hidden": false,
     "source_hidden": false
    },
    "microsoft": {
     "language": "qsharp"
    },
    "nteract": {
     "transient": {
      "deleting": false
     }
    },
    "vscode": {
     "languageId": "qsharp"
    }
   },
   "outputs": [],
   "source": [
    "%%qsharp\n",
    "open Microsoft.Quantum.Arrays;\n",
    "open Microsoft.Quantum.Convert;\n",
    "open Microsoft.Quantum.Diagnostics;\n",
    "\n",
    "// The operation that runs the oracle on every bit string and compares the results with those of a classical function\n",
    "// (also checks that there are no measurements)\n",
    "operation AssertOracleImplementsFunction (N : Int, oracle : ((Qubit[], Qubit) => Unit), f : (Bool[] -> Bool)) : Unit {\n",
    "    let size = 1 <<< N;\n",
    "    use (qs, target) = (Qubit[N], Qubit());\n",
    "    for k in 0 .. size - 1 {\n",
    "        // Prepare k-th bit vector\n",
    "        let binary = IntAsBoolArray(k, N);\n",
    "            \n",
    "        //Message($\"{k}/{N} = {binary}\");\n",
    "        // binary is little-endian notation, so the second vector tried has qubit 0 in state 1 and the rest in state 0\n",
    "        ApplyPauliFromBitString(PauliX, true, binary, qs);\n",
    "            \n",
    "        // Apply the operation\n",
    "        oracle(qs, target);\n",
    "            \n",
    "        // Check that the result is what we'd expect to measure\n",
    "        let val = f(binary);\n",
    "        if val {\n",
    "            X(target);\n",
    "        }\n",
    "        if not CheckAllZero([target]) {\n",
    "            fail $\"Target in incorrect state for input {k} = {binary}\";\n",
    "        }\n",
    "\n",
    "        // Check that the query qubits are still in the same state\n",
    "        ApplyPauliFromBitString(PauliX, true, binary, qs);\n",
    "        if not CheckAllZero(qs) {\n",
    "            fail $\"The state of control qubits changed for input {k} = {binary}\";\n",
    "        }\n",
    "    }\n",
    "}\n",
    "\n",
    "// Check that the bitstring is one of the letters COMPUTER\n",
    "function QuantumF(args : Bool[]) : Bool {\n",
    "    let ascii = BoolArrayAsInt(args);\n",
    "    return Any(letter -> letter == ascii, [3, 5, 13, 15, 16, 18, 20, 21]);\n",
    "}\n",
    "\n",
    "// Wrapper operation that allows to run the logical test for the task\n",
    "operation TestWrapper() : Unit {\n",
    "    let N = 5;\n",
    "    AssertOracleImplementsFunction(N, QuantumCircuit, QuantumF);\n",
    "    Message(\"Test passed!\");\n",
    "}\n",
    "\n",
    "// Wrapper operation that allows to run resource estimation for the task.\n",
    "// This operation only allocates the qubits and applies the oracle once, not using any additional gates or measurements.\n",
    "operation ResourceEstimationWrapper() : Unit {\n",
    "    let N = 5;\n",
    "    use (input, target) = (Qubit[N], Qubit());\n",
    "    QuantumCircuit(input, target);\n",
    "}\n"
   ]
  },
  {
   "cell_type": "markdown",
   "metadata": {
    "nteract": {
     "transient": {
      "deleting": false
     }
    }
   },
   "source": [
    "Use the following cell to test your change to make sure it still performs the right computation. (You need to recompile the cell above every time you change your solution to test it.)\n",
    "* If your solution is correct, the cell will report \"Test passed!\".\n",
    "* Otherwise, it will throw an exception telling you on which basis state your solution is incorrect and in what way (either the function value is calculated incorrectly or the state of the control qubits changed)."
   ]
  },
  {
   "cell_type": "code",
   "execution_count": null,
   "metadata": {
    "jupyter": {
     "outputs_hidden": false,
     "source_hidden": false
    },
    "nteract": {
     "transient": {
      "deleting": false
     }
    }
   },
   "outputs": [],
   "source": [
    "qsharp.eval(\"TestWrapper()\")\n"
   ]
  },
  {
   "cell_type": "markdown",
   "metadata": {
    "nteract": {
     "transient": {
      "deleting": false
     }
    }
   },
   "source": [
    "Use the following cells to evaluate the resources required to run your solution.\n",
    "* The score for the original code is 6048. \n",
    "* If your solution gets a score between 4500 and 6000, you'll get 1 point.\n",
    "* If your solution gets a score between 2000 and 4500, you'll get 2 points.\n",
    "* If your solution gets a score under 2000, you'll get 3 points."
   ]
  },
  {
   "cell_type": "code",
   "execution_count": null,
   "metadata": {
    "jupyter": {
     "outputs_hidden": false,
     "source_hidden": false
    },
    "nteract": {
     "transient": {
      "deleting": false
     }
    }
   },
   "outputs": [],
   "source": [
    "result = qsharp.estimate(\"ResourceEstimationWrapper()\")\n",
    "# result"
   ]
  },
  {
   "cell_type": "code",
   "execution_count": null,
   "metadata": {
    "jupyter": {
     "outputs_hidden": false,
     "source_hidden": false
    },
    "nteract": {
     "transient": {
      "deleting": false
     }
    }
   },
   "outputs": [],
   "source": [
    "# The function that extracts the relevant resource information from the resource estimation job results and produces your absolute score.\n",
    "def evaluate_results(res) : \n",
    "    width = res['physicalCounts']['breakdown']['algorithmicLogicalQubits']\n",
    "    depth = res['physicalCounts']['breakdown']['algorithmicLogicalDepth']\n",
    "    print(f\"Logical algorithmic qubits = {width}\")\n",
    "    print(f\"Algorithmic depth = {depth}\")\n",
    "    print(f\"Score = {width * depth}\")\n",
    "    return width * depth\n"
   ]
  },
  {
   "cell_type": "code",
   "execution_count": null,
   "metadata": {
    "jupyter": {
     "outputs_hidden": false,
     "source_hidden": false
    },
    "nteract": {
     "transient": {
      "deleting": false
     }
    }
   },
   "outputs": [],
   "source": [
    "evaluate_results(result)"
   ]
  }
 ],
 "metadata": {
  "kernel_info": {
   "name": "python3"
  },
  "kernelspec": {
   "display_name": "Python 3",
   "language": "python",
   "name": "python3"
  },
  "language_info": {
   "codemirror_mode": {
    "name": "ipython",
    "version": 3
   },
   "file_extension": ".py",
   "mimetype": "text/x-python",
   "name": "python",
   "nbconvert_exporter": "python",
   "pygments_lexer": "ipython3",
   "version": "3.11.7"
  },
  "nteract": {
   "version": "nteract-front-end@1.0.0"
  }
 },
 "nbformat": 4,
 "nbformat_minor": 1
}
