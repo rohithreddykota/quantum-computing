{
  "cells": [
    {
      "cell_type": "markdown",
      "source": [
        "# Quantum Approximate Optimization Algorithm\n",
        "\n",
        "In this assignment you will implement Quantum Approximate Optimization Algorithm (QAOA) to find bit strings that consist of alternating 0s and 1s."
      ],
      "metadata": {}
    },
    {
      "cell_type": "code",
      "source": [
        "import qsharp\n",
        "import scipy.optimize as sco"
      ],
      "outputs": [
        {
          "output_type": "display_data",
          "data": {
            "text/plain": "",
            "application/javascript": ""
          },
          "metadata": {}
        }
      ],
      "execution_count": 1,
      "metadata": {}
    },
    {
      "cell_type": "markdown",
      "source": [
        "### Task 1. Classical cost function (1 point)\n",
        "\n",
        "The cost function $C(x)$ defines the cost of each possible input, and should be minimized for the inputs we're looking for - in this case the bit strings with alternating 0s and 1s $0101...$ and $1010...$.\n",
        "This cost function can be defined as the number of pairs of identical bits in adjacent positions:\n",
        "\n",
        "$$C(x) = \\sum_{i=0}^{N - 2} x_i = x_{i+1}$$\n",
        "\n",
        "For bit strings with alternating bits, all terms of the sum will be 0, achieving the minimal possible value of this cost function.\n",
        "\n",
        "**Input**: an array of integers $x$, each of them 0 or 1.\n",
        "\n",
        "**Output**: the value of the cost function $C(x)$."
      ],
      "metadata": {
        "nteract": {
          "transient": {
            "deleting": false
          }
        }
      }
    },
    {
      "cell_type": "code",
      "source": [
        "# Implement the cost function C \n",
        "def cost(x):\n",
        "    count = 0\n",
        "    for i in range(len(x) - 1):\n",
        "        if x[i] == x[i+1]:\n",
        "            count += 1\n",
        "    return count\n",
        "\n",
        "# Evaluate the function on several inputs to check it's correct\n",
        "for x in [[1, 0, 1],\n",
        "          [0, 1, 0, 1],\n",
        "          [1, 1, 1, 1],\n",
        "          [0, 1, 1, 0]]:\n",
        "    print(f\"C({x}) = {cost(x)}\")"
      ],
      "outputs": [
        {
          "output_type": "stream",
          "name": "stdout",
          "text": "C([1, 0, 1]) = 0\nC([0, 1, 0, 1]) = 0\nC([1, 1, 1, 1]) = 3\nC([0, 1, 1, 0]) = 1\n"
        }
      ],
      "execution_count": 2,
      "metadata": {
        "jupyter": {
          "outputs_hidden": false,
          "source_hidden": false
        },
        "nteract": {
          "transient": {
            "deleting": false
          }
        }
      }
    },
    {
      "cell_type": "markdown",
      "source": [
        "### Task 2. QAOA Phase Change Unitary (4 points)\n",
        "\n",
        "**Inputs:**\n",
        "1. A qubit array of type `Qubit[]` - the input of the phase oracle.\n",
        "2. A `Double` - the value of the parameter $\\gamma$.\n",
        "\n",
        "**Goal:** \n",
        "Implement the first unitary used in QAOA - the phase change unitary. This unitary should implement the transformation\n",
        "\n",
        "$$U_C(\\gamma)|\\psi\\rangle = e^{-i\\gamma C(x)}|\\psi\\rangle$$\n",
        "\n",
        "> This cost function can be expressed as a sum of terms applied to adjacent pairs of qubits. This allows you to decompose the $U_C$ operator into a sequence of 1- and 2-qubit operations."
      ],
      "metadata": {}
    },
    {
      "cell_type": "code",
      "source": [
        "%%qsharp\n",
        "\n",
        "open Microsoft.Quantum.Canon;\n",
        "open Microsoft.Quantum.Intrinsic;\n",
        "open Microsoft.Quantum.Math;\n",
        "operation AlternatingBitStringQAOAOracle(qs : Qubit[], gamma : Double) : Unit is Adj + Ctl {\n",
        "    let n = Length(qs);\n",
        "    for i in 1 .. n - 1 {\n",
        "        CNOT(qs[i], qs[i - 1]);\n",
        "    }\n",
        "    for i in 0 .. n - 1 {\n",
        "        X(qs[i]);\n",
        "        R1(-2.0 * gamma, qs[i]);\n",
        "    }\n",
        "}"
      ],
      "outputs": [],
      "execution_count": 3,
      "metadata": {
        "microsoft": {
          "language": "qsharp"
        },
        "vscode": {
          "languageId": "qsharp"
        }
      }
    },
    {
      "cell_type": "markdown",
      "source": [
        "The code below can be used to test your implementation. The `AlternatingBitStringQAOAOracleDemo` operation applies the `AlternatingBitStringQAOAOracle` operation to $N$ qubits, each in the $|+\\rangle$ state. Here are a couple of useful examples for testing:\n",
        "\n",
        "* For $N = 2$, the cost function $C(x)$ can take values 0 or 1. $\\gamma = \\pi$ allows to separate these cases nicely: basis states with $C(x) = 1$ will get $-1$ relative phase.\n",
        "* For $N = 3$, the cost function $C(x)$ can take values 0, 1 or 2. This means that with $\\gamma = \\frac{\\pi}{2}$ a basis state will remain unchanged ($C=0$) or acquire a relative phase $e^{-i\\frac{\\pi}{2}} = -i$ ($C=1$) or $e^{-i\\pi} = -1$ ($C=2$).\n",
        "\n",
        "Use the output of `DumpMachine` to check whether each basis state gains the correct phases. Remember that `DumpMachine` output can have an additional global phase."
      ],
      "metadata": {}
    },
    {
      "cell_type": "code",
      "source": [
        "%%qsharp\n",
        "\n",
        "open Microsoft.Quantum.Diagnostics;\n",
        "open Microsoft.Quantum.Math;\n",
        "\n",
        "operation AlternatingBitStringQAOAOracleDemo(N : Int, gamma : Double) : Unit {\n",
        "    use qs = Qubit[N];\n",
        "    ApplyToEach(H, qs);\n",
        "    AlternatingBitStringQAOAOracle(qs, gamma);\n",
        "    DumpMachine();\n",
        "    ResetAll(qs);\n",
        "}\n",
        "\n",
        "AlternatingBitStringQAOAOracleDemo(2, PI());\n",
        "AlternatingBitStringQAOAOracleDemo(3, PI()/2.0);"
      ],
      "outputs": [
        {
          "output_type": "display_data",
          "data": {
            "text/plain": "STATE:\n|00⟩: 0.5000+0.0000𝑖\n|01⟩: 0.5000+0.0000𝑖\n|10⟩: 0.5000+0.0000𝑖\n|11⟩: 0.5000+0.0000𝑖",
            "text/html": "<table>\n  <thead>\n    <tr>\n      <th style=\"text-align: left\">Basis State<br />(|𝜓₁…𝜓ₙ⟩)</th>\n      <th style=\"text-align: left\">Amplitude</th>\n      <th style=\"text-align: left\">Measurement Probability</th>\n      <th style=\"text-align: left\" colspan=\"2\">Phase</th>\n    </tr>\n  </thead>\n  <tbody>\n    <tr>\n  <td style=\"text-align: left\">\n    <span style=\"display: inline-block\">|00⟩</span>\n  </td>\n  <td style=\"text-align: left\">\n    <span style=\"display: inline-block\">0.5000+0.0000𝑖</span>\n  </td>\n  <td style=\"text-align: left\">\n    <progress max=\"100\" value=\"25.00000000000001\"></progress>\n    <span style=\"display: inline-block\">25.0000%</span>\n  </td>\n  <td style=\"text-align: left; transform: rotate(-0.0000rad)\">↑</td>\n  <td style=\"text-align: left\">\n    <span style=\"display: inline-block\">-0.0000</span>\n  </td>\n</tr>\n<tr>\n  <td style=\"text-align: left\">\n    <span style=\"display: inline-block\">|01⟩</span>\n  </td>\n  <td style=\"text-align: left\">\n    <span style=\"display: inline-block\">0.5000+0.0000𝑖</span>\n  </td>\n  <td style=\"text-align: left\">\n    <progress max=\"100\" value=\"25.00000000000001\"></progress>\n    <span style=\"display: inline-block\">25.0000%</span>\n  </td>\n  <td style=\"text-align: left; transform: rotate(0.0000rad)\">↑</td>\n  <td style=\"text-align: left\">\n    <span style=\"display: inline-block\">0.0000</span>\n  </td>\n</tr>\n<tr>\n  <td style=\"text-align: left\">\n    <span style=\"display: inline-block\">|10⟩</span>\n  </td>\n  <td style=\"text-align: left\">\n    <span style=\"display: inline-block\">0.5000+0.0000𝑖</span>\n  </td>\n  <td style=\"text-align: left\">\n    <progress max=\"100\" value=\"25.00000000000001\"></progress>\n    <span style=\"display: inline-block\">25.0000%</span>\n  </td>\n  <td style=\"text-align: left; transform: rotate(0.0000rad)\">↑</td>\n  <td style=\"text-align: left\">\n    <span style=\"display: inline-block\">0.0000</span>\n  </td>\n</tr>\n<tr>\n  <td style=\"text-align: left\">\n    <span style=\"display: inline-block\">|11⟩</span>\n  </td>\n  <td style=\"text-align: left\">\n    <span style=\"display: inline-block\">0.5000+0.0000𝑖</span>\n  </td>\n  <td style=\"text-align: left\">\n    <progress max=\"100\" value=\"25.00000000000001\"></progress>\n    <span style=\"display: inline-block\">25.0000%</span>\n  </td>\n  <td style=\"text-align: left; transform: rotate(0.0000rad)\">↑</td>\n  <td style=\"text-align: left\">\n    <span style=\"display: inline-block\">0.0000</span>\n  </td>\n</tr>\n\n  </tbody>\n</table>\n"
          },
          "metadata": {}
        },
        {
          "output_type": "display_data",
          "data": {
            "text/plain": "STATE:\n|000⟩: 0.0000−0.3536𝑖\n|001⟩: 0.0000+0.3536𝑖\n|010⟩: 0.0000+0.3536𝑖\n|011⟩: 0.0000−0.3536𝑖\n|100⟩: 0.0000+0.3536𝑖\n|101⟩: 0.0000−0.3536𝑖\n|110⟩: 0.0000−0.3536𝑖\n|111⟩: 0.0000+0.3536𝑖",
            "text/html": "<table>\n  <thead>\n    <tr>\n      <th style=\"text-align: left\">Basis State<br />(|𝜓₁…𝜓ₙ⟩)</th>\n      <th style=\"text-align: left\">Amplitude</th>\n      <th style=\"text-align: left\">Measurement Probability</th>\n      <th style=\"text-align: left\" colspan=\"2\">Phase</th>\n    </tr>\n  </thead>\n  <tbody>\n    <tr>\n  <td style=\"text-align: left\">\n    <span style=\"display: inline-block\">|000⟩</span>\n  </td>\n  <td style=\"text-align: left\">\n    <span style=\"display: inline-block\">0.0000−0.3536𝑖</span>\n  </td>\n  <td style=\"text-align: left\">\n    <progress max=\"100\" value=\"12.500000000000005\"></progress>\n    <span style=\"display: inline-block\">12.5000%</span>\n  </td>\n  <td style=\"text-align: left; transform: rotate(-1.5708rad)\">↑</td>\n  <td style=\"text-align: left\">\n    <span style=\"display: inline-block\">-1.5708</span>\n  </td>\n</tr>\n<tr>\n  <td style=\"text-align: left\">\n    <span style=\"display: inline-block\">|001⟩</span>\n  </td>\n  <td style=\"text-align: left\">\n    <span style=\"display: inline-block\">0.0000+0.3536𝑖</span>\n  </td>\n  <td style=\"text-align: left\">\n    <progress max=\"100\" value=\"12.500000000000005\"></progress>\n    <span style=\"display: inline-block\">12.5000%</span>\n  </td>\n  <td style=\"text-align: left; transform: rotate(1.5708rad)\">↑</td>\n  <td style=\"text-align: left\">\n    <span style=\"display: inline-block\">1.5708</span>\n  </td>\n</tr>\n<tr>\n  <td style=\"text-align: left\">\n    <span style=\"display: inline-block\">|010⟩</span>\n  </td>\n  <td style=\"text-align: left\">\n    <span style=\"display: inline-block\">0.0000+0.3536𝑖</span>\n  </td>\n  <td style=\"text-align: left\">\n    <progress max=\"100\" value=\"12.500000000000005\"></progress>\n    <span style=\"display: inline-block\">12.5000%</span>\n  </td>\n  <td style=\"text-align: left; transform: rotate(1.5708rad)\">↑</td>\n  <td style=\"text-align: left\">\n    <span style=\"display: inline-block\">1.5708</span>\n  </td>\n</tr>\n<tr>\n  <td style=\"text-align: left\">\n    <span style=\"display: inline-block\">|011⟩</span>\n  </td>\n  <td style=\"text-align: left\">\n    <span style=\"display: inline-block\">0.0000−0.3536𝑖</span>\n  </td>\n  <td style=\"text-align: left\">\n    <progress max=\"100\" value=\"12.500000000000005\"></progress>\n    <span style=\"display: inline-block\">12.5000%</span>\n  </td>\n  <td style=\"text-align: left; transform: rotate(-1.5708rad)\">↑</td>\n  <td style=\"text-align: left\">\n    <span style=\"display: inline-block\">-1.5708</span>\n  </td>\n</tr>\n<tr>\n  <td style=\"text-align: left\">\n    <span style=\"display: inline-block\">|100⟩</span>\n  </td>\n  <td style=\"text-align: left\">\n    <span style=\"display: inline-block\">0.0000+0.3536𝑖</span>\n  </td>\n  <td style=\"text-align: left\">\n    <progress max=\"100\" value=\"12.500000000000005\"></progress>\n    <span style=\"display: inline-block\">12.5000%</span>\n  </td>\n  <td style=\"text-align: left; transform: rotate(1.5708rad)\">↑</td>\n  <td style=\"text-align: left\">\n    <span style=\"display: inline-block\">1.5708</span>\n  </td>\n</tr>\n<tr>\n  <td style=\"text-align: left\">\n    <span style=\"display: inline-block\">|101⟩</span>\n  </td>\n  <td style=\"text-align: left\">\n    <span style=\"display: inline-block\">0.0000−0.3536𝑖</span>\n  </td>\n  <td style=\"text-align: left\">\n    <progress max=\"100\" value=\"12.500000000000005\"></progress>\n    <span style=\"display: inline-block\">12.5000%</span>\n  </td>\n  <td style=\"text-align: left; transform: rotate(-1.5708rad)\">↑</td>\n  <td style=\"text-align: left\">\n    <span style=\"display: inline-block\">-1.5708</span>\n  </td>\n</tr>\n<tr>\n  <td style=\"text-align: left\">\n    <span style=\"display: inline-block\">|110⟩</span>\n  </td>\n  <td style=\"text-align: left\">\n    <span style=\"display: inline-block\">0.0000−0.3536𝑖</span>\n  </td>\n  <td style=\"text-align: left\">\n    <progress max=\"100\" value=\"12.500000000000005\"></progress>\n    <span style=\"display: inline-block\">12.5000%</span>\n  </td>\n  <td style=\"text-align: left; transform: rotate(-1.5708rad)\">↑</td>\n  <td style=\"text-align: left\">\n    <span style=\"display: inline-block\">-1.5708</span>\n  </td>\n</tr>\n<tr>\n  <td style=\"text-align: left\">\n    <span style=\"display: inline-block\">|111⟩</span>\n  </td>\n  <td style=\"text-align: left\">\n    <span style=\"display: inline-block\">0.0000+0.3536𝑖</span>\n  </td>\n  <td style=\"text-align: left\">\n    <progress max=\"100\" value=\"12.500000000000005\"></progress>\n    <span style=\"display: inline-block\">12.5000%</span>\n  </td>\n  <td style=\"text-align: left; transform: rotate(1.5708rad)\">↑</td>\n  <td style=\"text-align: left\">\n    <span style=\"display: inline-block\">1.5708</span>\n  </td>\n</tr>\n\n  </tbody>\n</table>\n"
          },
          "metadata": {}
        }
      ],
      "execution_count": 4,
      "metadata": {
        "microsoft": {
          "language": "qsharp"
        },
        "vscode": {
          "languageId": "qsharp"
        }
      }
    },
    {
      "cell_type": "markdown",
      "source": [
        "### Task 3. QAOA Mixer Unitary (3 points)\n",
        "\n",
        "**Inputs:**\n",
        "1. A qubit array of type `Qubit[]` - the input of the mixer unitary.\n",
        "2. A `Double` - the value of the parameter $\\beta$.\n",
        "\n",
        "**Goal:** \n",
        "Implement the second unitary used in QAOA - the mixer. This unitary should implement the transformation\n",
        "$${\\displaystyle \\prod_{j=0}^{N-1} e^{-i\\beta X_j}},$$\n",
        "where $X_j$ is the Pauli X operator acting on qubit j. By definition,\n",
        "$$e^{i\\theta X} = \\begin{bmatrix} \\cos(\\theta) & i\\sin(\\theta) \\\\ i\\sin(\\theta) & cos(\\theta) \\end{bmatrix}$$"
      ],
      "metadata": {}
    },
    {
      "cell_type": "code",
      "source": [
        "%%qsharp\n",
        "operation Mixer(qs : Qubit[], beta : Double) : Unit is Adj + Ctl {\n",
        "    for q in qs {\n",
        "        Rx(2.0 * beta, q);\n",
        "    }\n",
        "}"
      ],
      "outputs": [],
      "execution_count": 5,
      "metadata": {
        "microsoft": {
          "language": "qsharp"
        },
        "vscode": {
          "languageId": "qsharp"
        }
      }
    },
    {
      "cell_type": "markdown",
      "source": [
        "The code below can be used to test your implementation. It will output the matrix representation of the `Mixer` operation called with 1 qubit and several different parameters $\\beta$. \n",
        "\n",
        "> Remember that, same as `DumpMachine`, output of `dump_operation` can have a global phase; if you need to get rid of it, modify the Q# code to add a wrapper that calls a controlled variant of `Mixer` (the wrapper should not have specializations), and use `dump_operation` to print the matrix of that controlled variant."
      ],
      "metadata": {}
    },
    {
      "cell_type": "code",
      "source": [
        "from qsharp.utils import dump_operation\n",
        "\n",
        "print(dump_operation(f\"Mixer(_, 0.0)\", 1))\n",
        "print(dump_operation(f\"Mixer(_, PI() / 4.0)\", 1))\n",
        "print(dump_operation(f\"Mixer(_, PI() / 2.0)\", 1))"
      ],
      "outputs": [
        {
          "output_type": "stream",
          "name": "stdout",
          "text": "[[(1+0j), 0j], [0j, (1+0j)]]\n[[(0.707107+0j), -0.707107j], [-0.707107j, (0.707107+0j)]]\n[[0j, (1+0j)], [(1+0j), 0j]]\n"
        }
      ],
      "execution_count": 6,
      "metadata": {
        "microsoft": {}
      }
    },
    {
      "cell_type": "markdown",
      "source": [
        "### Task 4. Implement depth 1 QAOA to find the optimal parameters $\\beta$ and $\\gamma$ (2 points)\n",
        "\n",
        "**Inputs:**\n",
        "\n",
        "1. $N$ - the length of the bit string in the optimization problem.\n",
        "2. `gamma` and `beta` - `Double` values $\\gamma$ and $\\beta$.\n",
        "\n",
        "**Output:**\n",
        "\n",
        "An array of type `Int` representing measurement results of the $N$ qubits used in QAOA: 0 and 1 values represent measurement results `Zero` and `One`, respectively.\n",
        "\n",
        "**Goal:** Implement operation `RunQAOA` to run depth 1 QAOA with the given parameters $\\beta$ and $\\gamma$. Then, use the Python code below to perform classical optimization to identify optimal $\\gamma$ and $\\beta$ values for the circuit, and use these parameters to get the solution to the problem for N = 2 .. 5."
      ],
      "metadata": {}
    },
    {
      "cell_type": "code",
      "source": [
        "%%qsharp\n",
        "open Microsoft.Quantum.Diagnostics;\n",
        "open Microsoft.Quantum.Math;\n",
        "\n",
        "operation RunQAOA(N : Int, gamma : Double, beta : Double) : Int[] {\n",
        "    use qs = Qubit[N];\n",
        "    ApplyToEach(H, qs);\n",
        "    AlternatingBitStringQAOAOracle(qs, gamma);\n",
        "    Mixer(qs, beta);\n",
        "    mutable arr = [];\n",
        "    for i in 0 .. N - 1 {\n",
        "        set arr += [M(qs[i]) == One ? 1 | 0];\n",
        "    }\n",
        "    ResetAll(qs);\n",
        "    return arr;\n",
        "}\n"
      ],
      "outputs": [],
      "execution_count": 7,
      "metadata": {
        "microsoft": {
          "language": "qsharp"
        },
        "vscode": {
          "languageId": "qsharp"
        }
      }
    },
    {
      "cell_type": "markdown",
      "source": [
        "The following Python code uses classical optimization method from `scipy.optimize` to find the parameters $\\beta$ and $\\gamma$ that minimize the average cost of the configuration produced by the QAOA run for bit strings of different lengths. Note that if your solution is correct, you should get correct results (bit strings with alternating bits) with reasonably high probability."
      ],
      "metadata": {
        "nteract": {
          "transient": {
            "deleting": false
          }
        }
      }
    },
    {
      "cell_type": "code",
      "source": [
        "from functools import partial\n",
        "\n",
        "def multishot_cost(N, parameters):\n",
        "    shots = 30\n",
        "    total_cost = 0\n",
        "    for i in range(shots):\n",
        "        result = qsharp.eval(f\"RunQAOA({N}, {parameters[0]}, {parameters[1]})\")\n",
        "        total_cost += cost(result) \n",
        "    return total_cost / shots\n",
        "\n",
        "def answer_freq(N, parameters):\n",
        "    dict = {}\n",
        "    shots = 100\n",
        "    for i in range(shots):\n",
        "        result = qsharp.eval(f\"RunQAOA({N}, {parameters[0]}, {parameters[1]})\")\n",
        "        key = ''.join(map(str, result))\n",
        "        if key in dict:\n",
        "            dict[key] = dict[key] + 1\n",
        "        else:\n",
        "            dict[key] = 1\n",
        "    return {k : (v / shots) for k, v in dict.items()}\n",
        "\n",
        "for N in range(2, 6):\n",
        "    out = sco.minimize(partial(multishot_cost, N), [1, 1], method=\"COBYLA\", options={'maxiter':50})\n",
        "    print(f\"Optimal Values for N = {N}:\")\n",
        "    print(\"γ = {:.2f}\".format(out.x[0]))\n",
        "    print(\"β = {:.2f}\".format(out.x[1]))\n",
        "    ans = answer_freq(N, out.x)\n",
        "    print(sorted(ans.items(), key=lambda x:x[1], reverse=True))"
      ],
      "outputs": [
        {
          "output_type": "stream",
          "name": "stdout",
          "text": "Optimal Values for N = 2:\nγ = 3.63\nβ = 0.11\n[('11', 0.31), ('01', 0.28), ('10', 0.27), ('00', 0.14)]\nOptimal Values for N = 3:\nγ = 3.14\nβ = 2.53\n[('101', 0.15), ('010', 0.14), ('111', 0.13), ('110', 0.13), ('000', 0.13), ('011', 0.12), ('100', 0.11), ('001', 0.09)]\nOptimal Values for N = 4:\nγ = 0.62\nβ = 3.13\n[('0111', 0.13), ('1001', 0.1), ('0010', 0.09), ('1011', 0.09), ('1100', 0.08), ('1000', 0.07), ('0101', 0.06), ('1110', 0.06), ('1111', 0.06), ('1010', 0.05), ('0001', 0.05), ('0100', 0.05), ('0000', 0.04), ('1101', 0.03), ('0110', 0.03), ('0011', 0.01)]\nOptimal Values for N = 5:\nγ = 1.39\nβ = 2.31\n[('00000', 0.1), ('00010', 0.09), ('00001', 0.07), ('00100', 0.07), ('01000', 0.07), ('10000', 0.06), ('00110', 0.05), ('11000', 0.04), ('01001', 0.04), ('00101', 0.04), ('10001', 0.04), ('10110', 0.04), ('00011', 0.03), ('10010', 0.03), ('11100', 0.03), ('10100', 0.03), ('11001', 0.03), ('01100', 0.03), ('01010', 0.03), ('10101', 0.02), ('01011', 0.02), ('00111', 0.01), ('01111', 0.01), ('11110', 0.01), ('01110', 0.01)]\n"
        }
      ],
      "execution_count": 8,
      "metadata": {}
    },
    {
      "cell_type": "code",
      "source": [],
      "outputs": [],
      "execution_count": null,
      "metadata": {
        "jupyter": {
          "source_hidden": false,
          "outputs_hidden": false
        },
        "nteract": {
          "transient": {
            "deleting": false
          }
        }
      }
    }
  ],
  "metadata": {
    "kernel_info": {
      "name": "python3"
    },
    "kernelspec": {
      "name": "python3",
      "language": "python",
      "display_name": "Python 3 (ipykernel)"
    },
    "language_info": {
      "name": "python",
      "version": "3.11.8",
      "mimetype": "text/x-python",
      "codemirror_mode": {
        "name": "ipython",
        "version": 3
      },
      "pygments_lexer": "ipython3",
      "nbconvert_exporter": "python",
      "file_extension": ".py"
    },
    "nteract": {
      "version": "nteract-front-end@1.0.0"
    },
    "orig_nbformat": 4,
    "vscode": {
      "interpreter": {
        "hash": "1cde0123ad091c17bb3dac1610a1b00e4cc7ccaccc904fd2e4f3100417f26ae7"
      }
    }
  },
  "nbformat": 4,
  "nbformat_minor": 2
}